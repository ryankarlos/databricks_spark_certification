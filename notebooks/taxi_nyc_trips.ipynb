{
 "cells": [
  {
   "cell_type": "code",
   "execution_count": 1,
   "id": "199caf3d-552a-4fa1-bace-886905bdb4af",
   "metadata": {
    "execution": {
     "iopub.execute_input": "2022-05-01T20:32:18.646140Z",
     "iopub.status.busy": "2022-05-01T20:32:18.645692Z",
     "iopub.status.idle": "2022-05-01T20:32:48.450541Z",
     "shell.execute_reply": "2022-05-01T20:32:48.449723Z",
     "shell.execute_reply.started": "2022-05-01T20:32:18.646084Z"
    },
    "tags": []
   },
   "outputs": [
    {
     "data": {
      "application/vnd.jupyter.widget-view+json": {
       "model_id": "fcf0b15e7e1541b69447b681a2783bdd",
       "version_major": 2,
       "version_minor": 0
      },
      "text/plain": [
       "VBox()"
      ]
     },
     "metadata": {},
     "output_type": "display_data"
    },
    {
     "name": "stdout",
     "output_type": "stream",
     "text": [
      "Starting Spark application\n"
     ]
    },
    {
     "data": {
      "text/html": [
       "<table>\n",
       "<tr><th>ID</th><th>YARN Application ID</th><th>Kind</th><th>State</th><th>Spark UI</th><th>Driver log</th><th>Current session?</th></tr><tr><td>4</td><td>application_1651428963520_0006</td><td>pyspark</td><td>idle</td><td><a target=\"_blank\" href=\"http://ip-10-0-0-220.ec2.internal:20888/proxy/application_1651428963520_0006/\">Link</a></td><td><a target=\"_blank\" href=\"http://ip-10-0-0-89.ec2.internal:8042/node/containerlogs/container_1651428963520_0006_01_000001/livy\">Link</a></td><td>✔</td></tr></table>"
      ],
      "text/plain": [
       "<IPython.core.display.HTML object>"
      ]
     },
     "metadata": {},
     "output_type": "display_data"
    },
    {
     "data": {
      "application/vnd.jupyter.widget-view+json": {
       "model_id": "",
       "version_major": 2,
       "version_minor": 0
      },
      "text/plain": [
       "FloatProgress(value=0.0, bar_style='info', description='Progress:', layout=Layout(height='25px', width='50%'),…"
      ]
     },
     "metadata": {},
     "output_type": "display_data"
    },
    {
     "name": "stdout",
     "output_type": "stream",
     "text": [
      "SparkSession available as 'spark'.\n"
     ]
    },
    {
     "data": {
      "application/vnd.jupyter.widget-view+json": {
       "model_id": "",
       "version_major": 2,
       "version_minor": 0
      },
      "text/plain": [
       "FloatProgress(value=0.0, bar_style='info', description='Progress:', layout=Layout(height='25px', width='50%'),…"
      ]
     },
     "metadata": {},
     "output_type": "display_data"
    }
   ],
   "source": [
    "import pyspark\n",
    "from pyspark.sql import functions as F\n",
    "from pyspark.sql.types import IntegerType, StringType, FloatType, TimestampType, StructType, StructField\n",
    "#sc.install_pypi_package('pip==22.0.4')\n",
    "#sc.uninstall_package('matplotlib')\n",
    "#sc.install_pypi_package(\"matplotlib==3.2.1\")\n",
    "#sc.install_pypi_package(\"numpy\")\n",
    "\n",
    "\n",
    "\n",
    "\n",
    "\n",
    "#this example has data from 2009 -2019 partitioned by year/month. To load multple partitions at once - can use\n",
    "# glob expression like below. This loads in data from years 2017-2019\n",
    "\n",
    "# vendor_id — a code indicating the provider associated with the trip record\n",
    "# pickup_datetime — date and time when the meter was engaged\n",
    "# dropoff_datetime — date and time when the meter was disengaged\n",
    "# passenger_count — the number of passengers in the vehicle (driver entered value)\n",
    "# store_and_fwd_flag — This flag indicates whether the trip record was held in vehicle memory before sending to the vendor\n",
    "#because the vehicle did not have a connection to the server — Y=store and forward; N=not a store and forward trip.\n",
    "#trip_duration — duration of the trip in seconds\n",
    "\n",
    "\n",
    "\n",
    "schema = StructType([StructField(\"vendor_id\",StringType(),False),\\\n",
    "             StructField(\"pickup_at\",TimestampType(),True),\\\n",
    "             StructField(\"dropoff_at\",TimestampType(),True),\\\n",
    "             StructField(\"passenger_count\",IntegerType(),True),\\\n",
    "             StructField(\"trip_distance\",FloatType(),True),\\\n",
    "             StructField(\"rate_code_id\",StringType(),True),\\\n",
    "             StructField(\"store_and_fwd_flag\",StringType(),True),\\\n",
    "             StructField(\"pickup_location_id\",IntegerType(),True),\\\n",
    "             StructField(\"dropoff_location_id\",IntegerType(),True),\\\n",
    "             StructField(\"payment_type\",StringType(),True),\\\n",
    "             StructField(\"fare_amount\",FloatType(),True),\\\n",
    "             StructField(\"extra\",FloatType(),True),\\\n",
    "             StructField(\"mta_tax\",FloatType(),True),\\\n",
    "             StructField(\"tip_amount\",FloatType(),True),\\\n",
    "             StructField(\"tolls_amount\",FloatType(),True),\\\n",
    "             StructField(\"improvement_surcharge\",FloatType(),True),\\\n",
    "             StructField(\"total_amount\",FloatType(),True)])"
   ]
  },
  {
   "cell_type": "code",
   "execution_count": 27,
   "id": "14abd4a8-947c-468e-94be-834e99173ac3",
   "metadata": {
    "execution": {
     "iopub.execute_input": "2022-05-01T21:29:23.167315Z",
     "iopub.status.busy": "2022-05-01T21:29:23.167071Z",
     "iopub.status.idle": "2022-05-01T21:29:24.188613Z",
     "shell.execute_reply": "2022-05-01T21:29:24.187571Z",
     "shell.execute_reply.started": "2022-05-01T21:29:23.167287Z"
    },
    "tags": []
   },
   "outputs": [
    {
     "data": {
      "application/vnd.jupyter.widget-view+json": {
       "model_id": "a053da26d1c7463f8fbd6fa3f9a7e171",
       "version_major": 2,
       "version_minor": 0
      },
      "text/plain": [
       "VBox()"
      ]
     },
     "metadata": {},
     "output_type": "display_data"
    },
    {
     "data": {
      "application/vnd.jupyter.widget-view+json": {
       "model_id": "",
       "version_major": 2,
       "version_minor": 0
      },
      "text/plain": [
       "FloatProgress(value=0.0, bar_style='info', description='Progress:', layout=Layout(height='25px', width='50%'),…"
      ]
     },
     "metadata": {},
     "output_type": "display_data"
    },
    {
     "name": "stdout",
     "output_type": "stream",
     "text": [
      "aws-cfn-bootstrap (2.0)\n",
      "beautifulsoup4 (4.9.1)\n",
      "boto (2.49.0)\n",
      "click (7.1.2)\n",
      "docutils (0.14)\n",
      "jmespath (0.10.0)\n",
      "joblib (0.15.1)\n",
      "lockfile (0.11.0)\n",
      "lxml (4.5.1)\n",
      "mysqlclient (1.4.2)\n",
      "nltk (3.5)\n",
      "nose (1.3.4)\n",
      "numpy (1.16.5)\n",
      "pip (9.0.1)\n",
      "py-dateutil (2.2)\n",
      "pystache (0.5.4)\n",
      "python-daemon (2.2.3)\n",
      "python37-sagemaker-pyspark (1.3.0)\n",
      "pytz (2020.1)\n",
      "PyYAML (5.3.1)\n",
      "regex (2020.6.8)\n",
      "setuptools (28.8.0)\n",
      "simplejson (3.2.0)\n",
      "six (1.13.0)\n",
      "soupsieve (1.9.5)\n",
      "tqdm (4.46.1)\n",
      "wheel (0.29.0)\n",
      "windmill (1.6)\n",
      "\n",
      "DEPRECATION: The default format will switch to columns in the future. You can use --format=(legacy|columns) (or define a format=(legacy|columns) in your pip.conf under the [list] section) to disable this warning.\n",
      "You are using pip version 9.0.1, however version 22.0.4 is available.\n",
      "You should consider upgrading via the 'pip install --upgrade pip' command."
     ]
    }
   ],
   "source": [
    "sc.list_packages()"
   ]
  },
  {
   "cell_type": "code",
   "execution_count": 12,
   "id": "bcb11bf4-405c-4fde-88af-55b581e054a6",
   "metadata": {
    "execution": {
     "iopub.execute_input": "2022-05-01T21:02:37.603725Z",
     "iopub.status.busy": "2022-05-01T21:02:37.603478Z",
     "iopub.status.idle": "2022-05-01T21:02:38.134608Z",
     "shell.execute_reply": "2022-05-01T21:02:38.129064Z",
     "shell.execute_reply.started": "2022-05-01T21:02:37.603695Z"
    },
    "tags": []
   },
   "outputs": [
    {
     "data": {
      "application/vnd.jupyter.widget-view+json": {
       "model_id": "88ce9705a4e94ca8a8ee5005f7222a29",
       "version_major": 2,
       "version_minor": 0
      },
      "text/plain": [
       "VBox()"
      ]
     },
     "metadata": {},
     "output_type": "display_data"
    },
    {
     "data": {
      "application/vnd.jupyter.widget-view+json": {
       "model_id": "",
       "version_major": 2,
       "version_minor": 0
      },
      "text/plain": [
       "FloatProgress(value=0.0, bar_style='info', description='Progress:', layout=Layout(height='25px', width='50%'),…"
      ]
     },
     "metadata": {},
     "output_type": "display_data"
    },
    {
     "name": "stdout",
     "output_type": "stream",
     "text": [
      "StorageLevel(True, True, False, False, 2)"
     ]
    }
   ],
   "source": [
    "\n",
    "\n",
    "#if results already saved previoiusly in parquet - \n",
    "#df = spark.read.parquet('s3://big-datasets-over-gb/taxi_nyc/output_transformed_df.parquet')\n",
    "#lets persist this -  note only persists if followed by action\n",
    "\n",
    "#from pyspark import StorageLevel\n",
    "\n",
    "#df.persist(StorageLevel.MEMORY_AND_DISK_2).count()\n",
    "\n",
    "#df.unpersist()\n",
    "\n",
    "#df.storageLevel"
   ]
  },
  {
   "cell_type": "code",
   "execution_count": 29,
   "id": "f719e2ec-cdd8-4a41-a081-980eb5a07aaa",
   "metadata": {
    "execution": {
     "iopub.execute_input": "2022-05-01T21:30:20.856473Z",
     "iopub.status.busy": "2022-05-01T21:30:20.855640Z",
     "iopub.status.idle": "2022-05-01T21:30:21.236444Z",
     "shell.execute_reply": "2022-05-01T21:30:21.232002Z",
     "shell.execute_reply.started": "2022-05-01T21:30:20.856434Z"
    },
    "tags": []
   },
   "outputs": [
    {
     "data": {
      "application/vnd.jupyter.widget-view+json": {
       "model_id": "778700a36da745c58cc5aa47bb5f8b2f",
       "version_major": 2,
       "version_minor": 0
      },
      "text/plain": [
       "VBox()"
      ]
     },
     "metadata": {},
     "output_type": "display_data"
    },
    {
     "data": {
      "application/vnd.jupyter.widget-view+json": {
       "model_id": "",
       "version_major": 2,
       "version_minor": 0
      },
      "text/plain": [
       "FloatProgress(value=0.0, bar_style='info', description='Progress:', layout=Layout(height='25px', width='50%'),…"
      ]
     },
     "metadata": {},
     "output_type": "display_data"
    }
   ],
   "source": [
    "\n",
    "#Adaptive Query Execution (AQE) is one of the greatest features of Spark 3.0 which reoptimizes and adjusts query plans based on runtime statistics collected during the execution of the query.\n",
    "\n",
    "# Prior to 3.0, Spark does the optimization by creating an execution plan before the query starts executing, once execution starts Spark doesn’t do any further optimization which is based on metrics it collects during runtime. AQE bridges this gap by applying the second level of optimization based on the metrics it sees with each stage.\n",
    "\n",
    "# Adaptive Query Execution is disabled by default. In order to enable Set spark.sql.adaptive.enabled configuration property to true.\n",
    "\n",
    "# After enabling Adaptive Query Execution, Spark performs 2x improvement on TPC-DS over Spark 2.4 \n",
    "\n",
    "# Spark 3.0 comes with three major features in AQE.\n",
    "\n",
    "# Coalescing Post-shuffle Partitions that dynamically determine the optimal number of partitions\n",
    "# Converting sort-merge join to Broadcast join, and\n",
    "# Skew Join Optimization\n",
    "\n",
    "spark.conf.set(\"spark.sql.adaptive.enabled\", True)"
   ]
  },
  {
   "cell_type": "code",
   "execution_count": 43,
   "id": "98c87146-7642-47e8-b697-3255ae22b547",
   "metadata": {
    "execution": {
     "iopub.execute_input": "2022-05-01T21:40:37.803948Z",
     "iopub.status.busy": "2022-05-01T21:40:37.803635Z",
     "iopub.status.idle": "2022-05-01T21:40:38.071948Z",
     "shell.execute_reply": "2022-05-01T21:40:38.070000Z",
     "shell.execute_reply.started": "2022-05-01T21:40:37.803918Z"
    },
    "tags": []
   },
   "outputs": [
    {
     "data": {
      "application/vnd.jupyter.widget-view+json": {
       "model_id": "1ee31512a7ad46f1a06af6274beb1d96",
       "version_major": 2,
       "version_minor": 0
      },
      "text/plain": [
       "VBox()"
      ]
     },
     "metadata": {},
     "output_type": "display_data"
    },
    {
     "data": {
      "application/vnd.jupyter.widget-view+json": {
       "model_id": "",
       "version_major": 2,
       "version_minor": 0
      },
      "text/plain": [
       "FloatProgress(value=0.0, bar_style='info', description='Progress:', layout=Layout(height='25px', width='50%'),…"
      ]
     },
     "metadata": {},
     "output_type": "display_data"
    },
    {
     "name": "stdout",
     "output_type": "stream",
     "text": [
      "executor memory: 9108M\n",
      "executor cores: 4\n",
      "driver memory: 2048M\n",
      "Dynamic Allocation: true\n",
      "Adaptive Query Execution: true"
     ]
    }
   ],
   "source": [
    "## check existing spark conf\n",
    "\n",
    "print(f\"executor memory: {spark.conf.get('spark.executor.memory')}\")\n",
    "print(f\"executor cores: {spark.conf.get('spark.executor.cores')}\")\n",
    "print(f\"driver memory: {spark.conf.get('spark.driver.memory')}\")\n",
    "#The resources are adjusted dynamically based on the workload. \n",
    "#The app will give resources back if you are no longer using it.\n",
    "print(f\"Dynamic Allocation: {spark.conf.get('spark.dynamicAllocation.enabled')}\")\n",
    "print(f\"Adaptive Query Execution: {spark.conf.get('spark.sql.adaptive.enabled')}\")\n"
   ]
  },
  {
   "cell_type": "code",
   "execution_count": 88,
   "id": "f275b0c4-1969-484b-8a79-89eff95c2c17",
   "metadata": {
    "execution": {
     "iopub.execute_input": "2022-05-01T20:14:15.887111Z",
     "iopub.status.busy": "2022-05-01T20:14:15.886513Z",
     "iopub.status.idle": "2022-05-01T20:14:45.956144Z",
     "shell.execute_reply": "2022-05-01T20:14:45.955048Z",
     "shell.execute_reply.started": "2022-05-01T20:14:15.886749Z"
    },
    "tags": []
   },
   "outputs": [
    {
     "data": {
      "application/vnd.jupyter.widget-view+json": {
       "model_id": "9b28a50c44e34ebcb0c1be2072a0c4b2",
       "version_major": 2,
       "version_minor": 0
      },
      "text/plain": [
       "VBox()"
      ]
     },
     "metadata": {},
     "output_type": "display_data"
    },
    {
     "data": {
      "application/vnd.jupyter.widget-view+json": {
       "model_id": "",
       "version_major": 2,
       "version_minor": 0
      },
      "text/plain": [
       "FloatProgress(value=0.0, bar_style='info', description='Progress:', layout=Layout(height='25px', width='50%'),…"
      ]
     },
     "metadata": {},
     "output_type": "display_data"
    },
    {
     "name": "stdout",
     "output_type": "stream",
     "text": [
      "[Row(vendor_id='2', pickup_at=datetime.datetime(2018, 10, 31, 23, 58, 45), dropoff_at=datetime.datetime(2018, 11, 1, 0, 11, 23), passenger_count=1, trip_distance=2.559999942779541, rate_code_id='1', store_and_fwd_flag='N', pickup_location_id=236, dropoff_location_id=163, payment_type='1', fare_amount=11.5, extra=0.5, mta_tax=0.5, tip_amount=2.559999942779541, tolls_amount=0.0, improvement_surcharge=0.30000001192092896, total_amount=15.359999656677246), Row(vendor_id='2', pickup_at=datetime.datetime(2018, 10, 31, 23, 8, 2), dropoff_at=datetime.datetime(2018, 10, 31, 23, 8, 7), passenger_count=1, trip_distance=0.0, rate_code_id='1', store_and_fwd_flag='N', pickup_location_id=193, dropoff_location_id=193, payment_type='2', fare_amount=0.0, extra=0.0, mta_tax=0.0, tip_amount=0.0, tolls_amount=0.0, improvement_surcharge=0.0, total_amount=0.0)]"
     ]
    }
   ],
   "source": [
    "data = spark.\\\n",
    "read.\\\n",
    "option(\"header\", \"true\").\\\n",
    "option(\"mergeSchema\", \"true\").\\\n",
    "schema(schema).\\\n",
    "parquet(\"s3://ursa-labs-taxi-data/2017/**/*.parquet\",\\\n",
    "        \"s3://ursa-labs-taxi-data/2018/**/*.parquet\",\\\n",
    "        \"s3://ursa-labs-taxi-data/2019/**/*.parquet\")\n",
    "\n",
    "data.tail(2)"
   ]
  },
  {
   "cell_type": "code",
   "execution_count": 89,
   "id": "71db1c0b-a9a4-4429-9ec8-9769bcc0a89f",
   "metadata": {
    "execution": {
     "iopub.execute_input": "2022-05-01T20:14:45.957880Z",
     "iopub.status.busy": "2022-05-01T20:14:45.957499Z",
     "iopub.status.idle": "2022-05-01T20:14:48.944139Z",
     "shell.execute_reply": "2022-05-01T20:14:48.936144Z",
     "shell.execute_reply.started": "2022-05-01T20:14:45.957839Z"
    },
    "tags": []
   },
   "outputs": [
    {
     "data": {
      "application/vnd.jupyter.widget-view+json": {
       "model_id": "ffbd2e0d2929431f8dd206695f25cebc",
       "version_major": 2,
       "version_minor": 0
      },
      "text/plain": [
       "VBox()"
      ]
     },
     "metadata": {},
     "output_type": "display_data"
    },
    {
     "data": {
      "application/vnd.jupyter.widget-view+json": {
       "model_id": "",
       "version_major": 2,
       "version_minor": 0
      },
      "text/plain": [
       "FloatProgress(value=0.0, bar_style='info', description='Progress:', layout=Layout(height='25px', width='50%'),…"
      ]
     },
     "metadata": {},
     "output_type": "display_data"
    },
    {
     "name": "stdout",
     "output_type": "stream",
     "text": [
      "319105374"
     ]
    }
   ],
   "source": [
    "# we have over 319 million rows\n",
    "data.count()"
   ]
  },
  {
   "cell_type": "code",
   "execution_count": 90,
   "id": "4c37e742-5a2e-4175-9f7a-77691f679558",
   "metadata": {
    "execution": {
     "iopub.execute_input": "2022-05-01T20:14:49.031835Z",
     "iopub.status.busy": "2022-05-01T20:14:49.031396Z",
     "iopub.status.idle": "2022-05-01T20:14:50.028454Z",
     "shell.execute_reply": "2022-05-01T20:14:50.027376Z",
     "shell.execute_reply.started": "2022-05-01T20:14:49.031789Z"
    },
    "tags": []
   },
   "outputs": [
    {
     "data": {
      "application/vnd.jupyter.widget-view+json": {
       "model_id": "b461658d5c11454e9500c1c40a4e7863",
       "version_major": 2,
       "version_minor": 0
      },
      "text/plain": [
       "VBox()"
      ]
     },
     "metadata": {},
     "output_type": "display_data"
    },
    {
     "data": {
      "application/vnd.jupyter.widget-view+json": {
       "model_id": "",
       "version_major": 2,
       "version_minor": 0
      },
      "text/plain": [
       "FloatProgress(value=0.0, bar_style='info', description='Progress:', layout=Layout(height='25px', width='50%'),…"
      ]
     },
     "metadata": {},
     "output_type": "display_data"
    },
    {
     "name": "stdout",
     "output_type": "stream",
     "text": [
      "['vendor_id', 'pickup_at', 'dropoff_at', 'passenger_count', 'trip_distance', 'rate_code_id', 'store_and_fwd_flag', 'pickup_location_id', 'dropoff_location_id', 'payment_type', 'fare_amount', 'extra', 'mta_tax', 'tip_amount', 'tolls_amount', 'improvement_surcharge', 'total_amount']"
     ]
    }
   ],
   "source": [
    "data.columns"
   ]
  },
  {
   "cell_type": "code",
   "execution_count": 91,
   "id": "47e5f163-16bf-41fc-be8c-3b684f32b470",
   "metadata": {
    "execution": {
     "iopub.execute_input": "2022-05-01T20:14:50.030010Z",
     "iopub.status.busy": "2022-05-01T20:14:50.029717Z",
     "iopub.status.idle": "2022-05-01T20:14:50.741217Z",
     "shell.execute_reply": "2022-05-01T20:14:50.739977Z",
     "shell.execute_reply.started": "2022-05-01T20:14:50.029936Z"
    },
    "tags": []
   },
   "outputs": [
    {
     "data": {
      "application/vnd.jupyter.widget-view+json": {
       "model_id": "f3b5bf9c2c254be1a316e953922f82eb",
       "version_major": 2,
       "version_minor": 0
      },
      "text/plain": [
       "VBox()"
      ]
     },
     "metadata": {},
     "output_type": "display_data"
    },
    {
     "data": {
      "application/vnd.jupyter.widget-view+json": {
       "model_id": "",
       "version_major": 2,
       "version_minor": 0
      },
      "text/plain": [
       "FloatProgress(value=0.0, bar_style='info', description='Progress:', layout=Layout(height='25px', width='50%'),…"
      ]
     },
     "metadata": {},
     "output_type": "display_data"
    },
    {
     "name": "stdout",
     "output_type": "stream",
     "text": [
      "root\n",
      " |-- vendor_id: string (nullable = true)\n",
      " |-- pickup_at: timestamp (nullable = true)\n",
      " |-- dropoff_at: timestamp (nullable = true)\n",
      " |-- passenger_count: integer (nullable = true)\n",
      " |-- trip_distance: float (nullable = true)\n",
      " |-- rate_code_id: string (nullable = true)\n",
      " |-- store_and_fwd_flag: string (nullable = true)\n",
      " |-- pickup_location_id: integer (nullable = true)\n",
      " |-- dropoff_location_id: integer (nullable = true)\n",
      " |-- payment_type: string (nullable = true)\n",
      " |-- fare_amount: float (nullable = true)\n",
      " |-- extra: float (nullable = true)\n",
      " |-- mta_tax: float (nullable = true)\n",
      " |-- tip_amount: float (nullable = true)\n",
      " |-- tolls_amount: float (nullable = true)\n",
      " |-- improvement_surcharge: float (nullable = true)\n",
      " |-- total_amount: float (nullable = true)"
     ]
    }
   ],
   "source": [
    "data.printSchema()"
   ]
  },
  {
   "cell_type": "code",
   "execution_count": 92,
   "id": "45c3a5af-35bf-44c8-8bc0-8ddb18576e47",
   "metadata": {
    "execution": {
     "iopub.execute_input": "2022-05-01T20:14:50.743575Z",
     "iopub.status.busy": "2022-05-01T20:14:50.742873Z",
     "iopub.status.idle": "2022-05-01T20:19:38.987884Z",
     "shell.execute_reply": "2022-05-01T20:19:38.986743Z",
     "shell.execute_reply.started": "2022-05-01T20:14:50.743533Z"
    },
    "tags": []
   },
   "outputs": [
    {
     "data": {
      "application/vnd.jupyter.widget-view+json": {
       "model_id": "aa32e4ccacfb4926bd253f6397ee3ee6",
       "version_major": 2,
       "version_minor": 0
      },
      "text/plain": [
       "VBox()"
      ]
     },
     "metadata": {},
     "output_type": "display_data"
    },
    {
     "data": {
      "application/vnd.jupyter.widget-view+json": {
       "model_id": "",
       "version_major": 2,
       "version_minor": 0
      },
      "text/plain": [
       "FloatProgress(value=0.0, bar_style='info', description='Progress:', layout=Layout(height='25px', width='50%'),…"
      ]
     },
     "metadata": {},
     "output_type": "display_data"
    },
    {
     "name": "stdout",
     "output_type": "stream",
     "text": [
      "+---------+-----+----+--------+--------+----+----------+---------+------------+---------------+\n",
      "|vendor_id|month|year|duration|distance|fare|total_cost|extras   |payment_type|passenger_count|\n",
      "+---------+-----+----+--------+--------+----+----------+---------+------------+---------------+\n",
      "|2        |9    |2017|0.0     |0.0     |90.0|95.3      |5.3      |1           |2              |\n",
      "|2        |9    |2017|3.0     |0.68    |4.5 |5.3       |0.8      |1           |1              |\n",
      "|2        |9    |2017|3.0     |0.65    |4.5 |7.3       |2.8      |1           |1              |\n",
      "|1        |9    |2017|4.0     |0.6     |4.5 |6.95      |2.45     |1           |1              |\n",
      "|2        |9    |2017|5.0     |0.87    |5.5 |6.3       |0.8      |2           |1              |\n",
      "|2        |9    |2017|5.0     |0.89    |6.0 |7.8       |1.8      |2           |3              |\n",
      "|1        |9    |2017|6.0     |1.0     |6.5 |9.35      |2.85     |1           |1              |\n",
      "|1        |9    |2017|8.0     |1.9     |8.5 |11.15     |2.6499999|1           |1              |\n",
      "|2        |9    |2017|8.0     |1.51    |8.0 |10.7      |2.7      |1           |1              |\n",
      "|2        |9    |2017|9.0     |1.73    |8.5 |10.3      |1.8      |1           |1              |\n",
      "|1        |9    |2017|11.0    |2.2     |10.0|12.95     |2.95     |1           |1              |\n",
      "|1        |9    |2017|14.0    |3.6     |13.0|14.3      |1.3      |2           |1              |\n",
      "|2        |9    |2017|18.0    |3.44    |15.0|19.56     |4.5600004|1           |1              |\n",
      "|2        |9    |2017|36.0    |7.3     |29.5|30.8      |1.3      |2           |6              |\n",
      "|1        |9    |2017|0.0     |0.0     |52.0|57.3      |5.3      |3           |1              |\n",
      "|2        |9    |2017|0.0     |0.0     |2.5 |3.3       |0.8      |2           |1              |\n",
      "|2        |9    |2017|4.0     |0.92    |5.0 |6.3       |1.3      |2           |1              |\n",
      "|1        |9    |2017|6.0     |1.5     |7.0 |8.3       |1.3      |2           |1              |\n",
      "|1        |9    |2017|9.0     |3.6     |12.5|15.3      |2.8      |1           |1              |\n",
      "|2        |9    |2017|9.0     |1.23    |7.0 |9.96      |2.9599998|1           |1              |\n",
      "+---------+-----+----+--------+--------+----+----------+---------+------------+---------------+\n",
      "only showing top 20 rows"
     ]
    }
   ],
   "source": [
    "#simple example of udf\n",
    "from pyspark.sql.functions import col\n",
    "# .withColumn('extras', data.extra + data.mta_tax + data.tip_amount + data.tolls_amount + data.improvement_surcharge)\\\n",
    "\n",
    "F.udf(returnType=FloatType())\n",
    "\n",
    "\n",
    "def time_diff(a, b):\n",
    "    \"\"\"\n",
    "    Time difference in minutes from taxi pickup and drop off\n",
    "    a: pickup start time\n",
    "    b: pickup end time\n",
    "    \"\"\"\n",
    "    #return F.col(a).cast(\"long\") - F.col(b).cast(\"long\")\n",
    "    mins = (F.unix_timestamp(b) - F.unix_timestamp(a)) / 60\n",
    "    return F.round(mins)\n",
    "\n",
    "\n",
    "F.udf(returnType=FloatType())\n",
    "\n",
    "\n",
    "def sum_extras():\n",
    "    return col('extra') + col('mta_tax') + col('tip_amount') + col(\n",
    "        'tolls_amount') + col('improvement_surcharge')\n",
    "\n",
    "\n",
    "df = data.withColumn('duration', time_diff('pickup_at', 'dropoff_at'))\\\n",
    ".withColumn('extras', sum_extras())\\\n",
    ".withColumn('month', F.month('pickup_at'))\\\n",
    ".withColumn('year', F.year('pickup_at'))\\\n",
    ".withColumnRenamed('trip_distance', 'distance')\\\n",
    ".withColumnRenamed('fare_amount', 'fare')\\\n",
    ".withColumnRenamed('total_amount', 'total_cost')\\\n",
    ".dropDuplicates()\\\n",
    ".filter(\"duration >= 0 and total_cost >= 0\")\\\n",
    ".select('vendor_id','month','year','duration','distance','fare','total_cost','extras','payment_type','passenger_count')\n",
    "\n",
    "\n",
    "df.show(truncate=False)"
   ]
  },
  {
   "cell_type": "code",
   "execution_count": 93,
   "id": "211db61d-4a84-41a4-a8f6-19a5506f4aa2",
   "metadata": {
    "execution": {
     "iopub.execute_input": "2022-05-01T20:19:38.991771Z",
     "iopub.status.busy": "2022-05-01T20:19:38.990690Z",
     "iopub.status.idle": "2022-05-01T20:26:32.658152Z",
     "shell.execute_reply": "2022-05-01T20:26:32.656559Z",
     "shell.execute_reply.started": "2022-05-01T20:19:38.991719Z"
    },
    "tags": []
   },
   "outputs": [
    {
     "data": {
      "application/vnd.jupyter.widget-view+json": {
       "model_id": "5029e5e2a495493ab85e7ffdf07ac732",
       "version_major": 2,
       "version_minor": 0
      },
      "text/plain": [
       "VBox()"
      ]
     },
     "metadata": {},
     "output_type": "display_data"
    },
    {
     "data": {
      "application/vnd.jupyter.widget-view+json": {
       "model_id": "",
       "version_major": 2,
       "version_minor": 0
      },
      "text/plain": [
       "FloatProgress(value=0.0, bar_style='info', description='Progress:', layout=Layout(height='25px', width='50%'),…"
      ]
     },
     "metadata": {},
     "output_type": "display_data"
    }
   ],
   "source": [
    "# saving intermediate results to parquet to load in later\n",
    "\n",
    "#df.write.format('parquet').mode('overwrite').partitionBy(\"month\").save('s3://big-datasets-over-gb/taxi_nyc/output_transformed_df.parquet')\n",
    "\n"
   ]
  },
  {
   "cell_type": "code",
   "execution_count": 7,
   "id": "79121d19-805a-465d-9fe7-5d564204e69f",
   "metadata": {
    "execution": {
     "iopub.execute_input": "2022-05-01T19:05:18.016483Z",
     "iopub.status.busy": "2022-05-01T19:05:18.016226Z",
     "iopub.status.idle": "2022-05-01T19:06:20.516409Z",
     "shell.execute_reply": "2022-05-01T19:06:20.513620Z",
     "shell.execute_reply.started": "2022-05-01T19:05:18.016452Z"
    },
    "tags": []
   },
   "outputs": [
    {
     "data": {
      "application/vnd.jupyter.widget-view+json": {
       "model_id": "69d9040e1e5a428daa6391e12158047f",
       "version_major": 2,
       "version_minor": 0
      },
      "text/plain": [
       "VBox()"
      ]
     },
     "metadata": {},
     "output_type": "display_data"
    },
    {
     "data": {
      "application/vnd.jupyter.widget-view+json": {
       "model_id": "",
       "version_major": 2,
       "version_minor": 0
      },
      "text/plain": [
       "FloatProgress(value=0.0, bar_style='info', description='Progress:', layout=Layout(height='25px', width='50%'),…"
      ]
     },
     "metadata": {},
     "output_type": "display_data"
    },
    {
     "name": "stdout",
     "output_type": "stream",
     "text": [
      "Dataframe has 216 million rows and 200 partitions"
     ]
    }
   ],
   "source": [
    "# each partition has just over a million rows.\n",
    "\n",
    "print(\n",
    "    f\"Dataframe has {int(df.count()/1000000)} million rows and {df.rdd.getNumPartitions()} partitions\"\n",
    ")"
   ]
  },
  {
   "cell_type": "code",
   "execution_count": 8,
   "id": "71153608-6483-4665-91e8-779995be8e18",
   "metadata": {
    "execution": {
     "iopub.execute_input": "2022-05-01T18:48:48.857480Z",
     "iopub.status.busy": "2022-05-01T18:48:48.857232Z",
     "iopub.status.idle": "2022-05-01T18:48:56.711724Z",
     "shell.execute_reply": "2022-05-01T18:48:56.710761Z",
     "shell.execute_reply.started": "2022-05-01T18:48:48.857443Z"
    },
    "tags": []
   },
   "outputs": [
    {
     "data": {
      "application/vnd.jupyter.widget-view+json": {
       "model_id": "5c5b2246e58441339e45d44649f11cee",
       "version_major": 2,
       "version_minor": 0
      },
      "text/plain": [
       "VBox()"
      ]
     },
     "metadata": {},
     "output_type": "display_data"
    },
    {
     "data": {
      "application/vnd.jupyter.widget-view+json": {
       "model_id": "",
       "version_major": 2,
       "version_minor": 0
      },
      "text/plain": [
       "FloatProgress(value=0.0, bar_style='info', description='Progress:', layout=Layout(height='25px', width='50%'),…"
      ]
     },
     "metadata": {},
     "output_type": "display_data"
    },
    {
     "name": "stdout",
     "output_type": "stream",
     "text": [
      "+---------+------------------------+-------------------+-----------------+----------------+----------------------+-------------------------+\n",
      "|vendor_id|Total_Earnings(millions)|Average_Earnings($)|Average_Extras($)|Average_Distance|Average_Duration(mins)|Number_of_Trips(Millions)|\n",
      "+---------+------------------------+-------------------+-----------------+----------------+----------------------+-------------------------+\n",
      "|        2|                    2017|               16.6|              3.4|             3.0|                  19.2|                    121.7|\n",
      "|        1|                    1516|               16.1|              3.3|             2.8|                  14.2|                     94.1|\n",
      "|        4|                       7|               16.0|              3.4|             2.7|                  14.5|                      0.5|\n",
      "+---------+------------------------+-------------------+-----------------+----------------+----------------------+-------------------------+"
     ]
    }
   ],
   "source": [
    "# which vendor made the most money in trips\n",
    "\n",
    "df.groupBy('vendor_id').\\\n",
    "agg((F.sum('total_cost')/F.lit(1000000)).cast(IntegerType()).alias('Total_Earnings(millions)'),\\\n",
    "    F.round(F.mean('total_cost'),1).alias('Average_Earnings($)'),\\\n",
    "    F.round(F.mean('extras'),1).alias('Average_Extras($)'),\\\n",
    "    F.round(F.mean('distance'),1).alias('Average_Distance'),\\\n",
    "    F.round(F.mean('duration'),1).alias('Average_Duration(mins)'),\\\n",
    "    F.round(F.count(col('fare'))/F.lit(1000000), 1).alias('Number_of_Trips(Millions)')).\\\n",
    "orderBy([col('Average_Earnings($)'),col('Average_Distance')], ascending=[0,0]).\\\n",
    "show()"
   ]
  },
  {
   "cell_type": "code",
   "execution_count": 9,
   "id": "fb4bd71d-80b7-40e1-b932-c8a8b092fda4",
   "metadata": {
    "execution": {
     "iopub.execute_input": "2022-05-01T18:48:56.715073Z",
     "iopub.status.busy": "2022-05-01T18:48:56.714449Z",
     "iopub.status.idle": "2022-05-01T18:49:13.571362Z",
     "shell.execute_reply": "2022-05-01T18:49:13.570268Z",
     "shell.execute_reply.started": "2022-05-01T18:48:56.715031Z"
    },
    "tags": []
   },
   "outputs": [
    {
     "data": {
      "application/vnd.jupyter.widget-view+json": {
       "model_id": "c8ee945a3c214df3a998c31109f8067a",
       "version_major": 2,
       "version_minor": 0
      },
      "text/plain": [
       "VBox()"
      ]
     },
     "metadata": {},
     "output_type": "display_data"
    },
    {
     "data": {
      "application/vnd.jupyter.widget-view+json": {
       "model_id": "",
       "version_major": 2,
       "version_minor": 0
      },
      "text/plain": [
       "FloatProgress(value=0.0, bar_style='info', description='Progress:', layout=Layout(height='25px', width='50%'),…"
      ]
     },
     "metadata": {},
     "output_type": "display_data"
    },
    {
     "name": "stdout",
     "output_type": "stream",
     "text": [
      "+---------+-----+----+--------+--------+----+----------+------+------------+---------------+\n",
      "|vendor_id|month|year|duration|distance|fare|total_cost|extras|payment_type|passenger_count|\n",
      "+---------+-----+----+--------+--------+----+----------+------+------------+---------------+\n",
      "|        0|    0|   0|       0|       0|   0|         0|     0|           0|              0|\n",
      "+---------+-----+----+--------+--------+----+----------+------+------------+---------------+"
     ]
    }
   ],
   "source": [
    "# check for nulls in all columns\n",
    "\n",
    "df.select([\n",
    "    F.count(F.when(F.isnan(c) | F.col(c).isNull(), c)).alias(c)\n",
    "    for c in df.columns\n",
    "]).show()"
   ]
  },
  {
   "cell_type": "code",
   "execution_count": 10,
   "id": "529c34ec-e224-43d1-943e-b1ea9ceb5cd7",
   "metadata": {
    "execution": {
     "iopub.execute_input": "2022-05-01T18:49:13.575155Z",
     "iopub.status.busy": "2022-05-01T18:49:13.574816Z",
     "iopub.status.idle": "2022-05-01T18:49:19.499399Z",
     "shell.execute_reply": "2022-05-01T18:49:19.497624Z",
     "shell.execute_reply.started": "2022-05-01T18:49:13.575114Z"
    },
    "tags": []
   },
   "outputs": [
    {
     "data": {
      "application/vnd.jupyter.widget-view+json": {
       "model_id": "65ed24c8a7ed44f4b015c9548d045bcc",
       "version_major": 2,
       "version_minor": 0
      },
      "text/plain": [
       "VBox()"
      ]
     },
     "metadata": {},
     "output_type": "display_data"
    },
    {
     "data": {
      "application/vnd.jupyter.widget-view+json": {
       "model_id": "",
       "version_major": 2,
       "version_minor": 0
      },
      "text/plain": [
       "FloatProgress(value=0.0, bar_style='info', description='Progress:', layout=Layout(height='25px', width='50%'),…"
      ]
     },
     "metadata": {},
     "output_type": "display_data"
    },
    {
     "name": "stdout",
     "output_type": "stream",
     "text": [
      "[Row(payment_type='3'), Row(payment_type='1'), Row(payment_type='5'), Row(payment_type='4'), Row(payment_type='2')]"
     ]
    }
   ],
   "source": [
    "# various payment type method codes\n",
    "\n",
    "df.select('payment_type').distinct().collect()"
   ]
  },
  {
   "cell_type": "code",
   "execution_count": 11,
   "id": "02498bf4-94da-4e42-9e8c-04426a31993d",
   "metadata": {
    "execution": {
     "iopub.execute_input": "2022-05-01T18:49:19.504079Z",
     "iopub.status.busy": "2022-05-01T18:49:19.503290Z",
     "iopub.status.idle": "2022-05-01T18:49:52.778900Z",
     "shell.execute_reply": "2022-05-01T18:49:52.778182Z",
     "shell.execute_reply.started": "2022-05-01T18:49:19.504051Z"
    },
    "tags": []
   },
   "outputs": [
    {
     "data": {
      "application/vnd.jupyter.widget-view+json": {
       "model_id": "d0a96fdfbc32494991628577aca11614",
       "version_major": 2,
       "version_minor": 0
      },
      "text/plain": [
       "VBox()"
      ]
     },
     "metadata": {},
     "output_type": "display_data"
    },
    {
     "data": {
      "application/vnd.jupyter.widget-view+json": {
       "model_id": "",
       "version_major": 2,
       "version_minor": 0
      },
      "text/plain": [
       "FloatProgress(value=0.0, bar_style='info', description='Progress:', layout=Layout(height='25px', width='50%'),…"
      ]
     },
     "metadata": {},
     "output_type": "display_data"
    },
    {
     "name": "stdout",
     "output_type": "stream",
     "text": [
      "+----------------------+-------------------------+\n",
      "|payment_type_freqItems|passenger_count_freqItems|\n",
      "+----------------------+-------------------------+\n",
      "|             [2, 1, 3]|                [2, 1, 3]|\n",
      "+----------------------+-------------------------+"
     ]
    }
   ],
   "source": [
    "# find most freq payment types and passenger counts (increase support to filter out less frequent items)\n",
    "df.freqItems(['payment_type', 'passenger_count'], support=0.3).show()"
   ]
  },
  {
   "cell_type": "code",
   "execution_count": 12,
   "id": "e6ae011f-94bf-44fc-baf3-1779e4e1e9de",
   "metadata": {
    "execution": {
     "iopub.execute_input": "2022-05-01T18:49:52.780296Z",
     "iopub.status.busy": "2022-05-01T18:49:52.780031Z",
     "iopub.status.idle": "2022-05-01T18:50:00.998609Z",
     "shell.execute_reply": "2022-05-01T18:50:00.990918Z",
     "shell.execute_reply.started": "2022-05-01T18:49:52.780257Z"
    },
    "tags": []
   },
   "outputs": [
    {
     "data": {
      "application/vnd.jupyter.widget-view+json": {
       "model_id": "646dad71492b4141b0a98340ce5d0b7e",
       "version_major": 2,
       "version_minor": 0
      },
      "text/plain": [
       "VBox()"
      ]
     },
     "metadata": {},
     "output_type": "display_data"
    },
    {
     "data": {
      "application/vnd.jupyter.widget-view+json": {
       "model_id": "",
       "version_major": 2,
       "version_minor": 0
      },
      "text/plain": [
       "FloatProgress(value=0.0, bar_style='info', description='Progress:', layout=Layout(height='25px', width='50%'),…"
      ]
     },
     "metadata": {},
     "output_type": "display_data"
    },
    {
     "name": "stdout",
     "output_type": "stream",
     "text": [
      "+------------------+\n",
      "|   avg(total_cost)|\n",
      "+------------------+\n",
      "|16.669653451969616|\n",
      "+------------------+\n",
      "\n",
      "+--------+\n",
      "|   total|\n",
      "+--------+\n",
      "|19724073|\n",
      "|19351484|\n",
      "|19326215|\n",
      "|18589727|\n",
      "|18470880|\n",
      "|18370716|\n",
      "|17681132|\n",
      "|17661313|\n",
      "|17428111|\n",
      "|16985499|\n",
      "|16438063|\n",
      "|16271231|\n",
      "+--------+"
     ]
    }
   ],
   "source": [
    "# can run common sql queries by registering temp table\n",
    "\n",
    "df.createOrReplaceTempView(\"taxis\")\n",
    "\n",
    "# find avergae cost in summer months in 2018\n",
    "spark.sql(\"SELECT avg(total_cost) from taxis where month between 6 and 9 and year=2018\").show()\n",
    "# find the total number of trips grouped by months\n",
    "spark.sql(\"SELECT count(*) as total from taxis group by month order by total desc\").show()\n",
    "\n",
    "spark.catalog.dropTempView(\"taxis\")"
   ]
  },
  {
   "cell_type": "code",
   "execution_count": 13,
   "id": "0404f2ea-afe4-4a91-99fc-6afa765cf72b",
   "metadata": {
    "execution": {
     "iopub.execute_input": "2022-05-01T21:07:17.237422Z",
     "iopub.status.busy": "2022-05-01T21:07:17.237009Z",
     "iopub.status.idle": "2022-05-01T21:08:13.775230Z",
     "shell.execute_reply": "2022-05-01T21:08:13.771579Z",
     "shell.execute_reply.started": "2022-05-01T21:07:17.237382Z"
    },
    "tags": []
   },
   "outputs": [
    {
     "data": {
      "application/vnd.jupyter.widget-view+json": {
       "model_id": "7330e66086ad4630be55d6b13d1535c5",
       "version_major": 2,
       "version_minor": 0
      },
      "text/plain": [
       "VBox()"
      ]
     },
     "metadata": {},
     "output_type": "display_data"
    },
    {
     "data": {
      "application/vnd.jupyter.widget-view+json": {
       "model_id": "",
       "version_major": 2,
       "version_minor": 0
      },
      "text/plain": [
       "FloatProgress(value=0.0, bar_style='info', description='Progress:', layout=Layout(height='25px', width='50%'),…"
      ]
     },
     "metadata": {},
     "output_type": "display_data"
    },
    {
     "name": "stdout",
     "output_type": "stream",
     "text": [
      "[0.0, 90707.10625, 181414.2125, 272121.31875, 362828.425, 453535.53125, 544242.6375, 634949.74375, 725656.85, 816363.9562499999, 907071.0625]"
     ]
    }
   ],
   "source": [
    "# historgram of earnings \n",
    "\n",
    "df.select('total_cost').rdd.flatMap(lambda x: x).histogram(10)[0]"
   ]
  },
  {
   "cell_type": "code",
   "execution_count": 52,
   "id": "1826c5e8-205a-4499-b55d-0d1381080608",
   "metadata": {
    "execution": {
     "iopub.execute_input": "2022-05-01T21:47:51.533218Z",
     "iopub.status.busy": "2022-05-01T21:47:51.532773Z",
     "iopub.status.idle": "2022-05-01T21:47:54.265935Z",
     "shell.execute_reply": "2022-05-01T21:47:54.264900Z",
     "shell.execute_reply.started": "2022-05-01T21:47:51.533183Z"
    },
    "tags": []
   },
   "outputs": [
    {
     "data": {
      "application/vnd.jupyter.widget-view+json": {
       "model_id": "f53ebc5fe0524476a5853cc271bab0e3",
       "version_major": 2,
       "version_minor": 0
      },
      "text/plain": [
       "VBox()"
      ]
     },
     "metadata": {},
     "output_type": "display_data"
    },
    {
     "data": {
      "application/vnd.jupyter.widget-view+json": {
       "model_id": "",
       "version_major": 2,
       "version_minor": 0
      },
      "text/plain": [
       "FloatProgress(value=0.0, bar_style='info', description='Progress:', layout=Layout(height='25px', width='50%'),…"
      ]
     },
     "metadata": {},
     "output_type": "display_data"
    },
    {
     "name": "stdout",
     "output_type": "stream",
     "text": [
      "+-----+--------+---------------------+----------+\n",
      "|month|avg_cost|total_cost (millions)|avg_extras|\n",
      "+-----+--------+---------------------+----------+\n",
      "|    5|    16.8|                  324|      3.39|\n",
      "|    3|   16.11|                  317|      3.31|\n",
      "|    4|   16.36|                  316|      3.31|\n",
      "|   10|   16.86|                  313|      3.41|\n",
      "|    6|   16.67|                  306|      3.38|\n",
      "|   11|   16.65|                  289|      3.37|\n",
      "|   12|   16.36|                  289|      3.29|\n",
      "|    1|   15.52|                  286|       3.2|\n",
      "|    9|   16.77|                  284|      3.37|\n",
      "|    2|   15.57|                  274|      3.22|\n",
      "|    7|   16.49|                  270|      3.29|\n",
      "|    8|   16.56|                  269|      3.32|\n",
      "+-----+--------+---------------------+----------+"
     ]
    }
   ],
   "source": [
    "df.groupby('month')\\\n",
    ".agg(F.round(F.avg('total_cost'), 2)\\\n",
    "     .alias('avg_cost'), (F.sum('total_cost')/1000000).cast(IntegerType())\\\n",
    "     .alias('total_cost (millions)'), F.round(F.avg('extras'),2)\\\n",
    "     .alias('avg_extras')).orderBy(F.col('total_cost (millions)').desc(), F.col('avg_cost').desc(),F.col('avg_extras').desc())\\\n",
    ".show()"
   ]
  },
  {
   "cell_type": "code",
   "execution_count": 57,
   "id": "04546c7d-6742-4f43-9a0a-40daf323e7ef",
   "metadata": {
    "execution": {
     "iopub.execute_input": "2022-05-01T21:56:49.703449Z",
     "iopub.status.busy": "2022-05-01T21:56:49.703206Z",
     "iopub.status.idle": "2022-05-01T21:56:56.248020Z",
     "shell.execute_reply": "2022-05-01T21:56:56.246482Z",
     "shell.execute_reply.started": "2022-05-01T21:56:49.703421Z"
    },
    "tags": []
   },
   "outputs": [
    {
     "data": {
      "application/vnd.jupyter.widget-view+json": {
       "model_id": "09ff4d50f1fd42d1b36e6d0df4ceb9b6",
       "version_major": 2,
       "version_minor": 0
      },
      "text/plain": [
       "VBox()"
      ]
     },
     "metadata": {},
     "output_type": "display_data"
    },
    {
     "data": {
      "application/vnd.jupyter.widget-view+json": {
       "model_id": "",
       "version_major": 2,
       "version_minor": 0
      },
      "text/plain": [
       "FloatProgress(value=0.0, bar_style='info', description='Progress:', layout=Layout(height='25px', width='50%'),…"
      ]
     },
     "metadata": {},
     "output_type": "display_data"
    },
    {
     "name": "stdout",
     "output_type": "stream",
     "text": [
      "+---------+---------------+------------+--------------------+\n",
      "|vendor_id|passenger_count|payment_type|           Fare paid|\n",
      "+---------+---------------+------------+--------------------+\n",
      "|        2|              5|           2|3.7412129330002226E7|\n",
      "|        1|              6|           1|   362442.4100148771|\n",
      "|        1|              5|           3|   17653.72000234574|\n",
      "|        1|              3|           3|   552109.7400273383|\n",
      "|        1|              9|           2|               666.5|\n",
      "|        1|              0|           2|  3905156.3101407494|\n",
      "|        1|              5|           1|  522941.74000841007|\n",
      "|        2|              1|           3|                 0.0|\n",
      "|        1|              4|           3|  407910.40999061987|\n",
      "|        2|              0|           2|    35366.4299970828|\n",
      "|        1|              0|           4|   77041.15999911726|\n",
      "|        2|              2|           1|1.7761604253027302E8|\n",
      "|        1|              4|           1|1.2494099099999025E7|\n",
      "|        1|              6|           4|   3590.519999999553|\n",
      "|        1|              1|           1| 6.735047438708211E8|\n",
      "|        1|              7|           3|                 5.0|\n",
      "|        1|              4|           4|  115452.60999752022|\n",
      "|        4|              4|           1|              7854.5|\n",
      "|        1|              8|           3|  124.08000183105469|\n",
      "|        1|              1|           4|  3628563.5962345377|\n",
      "+---------+---------------+------------+--------------------+\n",
      "only showing top 20 rows"
     ]
    }
   ],
   "source": [
    "df.filter()groupby('vendor_id','passenger_count', 'payment_type').agg(F.sum(F.col('fare')).alias('Fare paid')).show()"
   ]
  },
  {
   "cell_type": "code",
   "execution_count": null,
   "id": "6304a18e-ca66-43b8-a6dd-d5a7d2523b09",
   "metadata": {},
   "outputs": [],
   "source": []
  }
 ],
 "metadata": {
  "kernelspec": {
   "display_name": "PySpark",
   "language": "",
   "name": "pysparkkernel"
  },
  "language_info": {
   "codemirror_mode": {
    "name": "python",
    "version": 2
   },
   "mimetype": "text/x-python",
   "name": "pyspark",
   "pygments_lexer": "python2"
  }
 },
 "nbformat": 4,
 "nbformat_minor": 5
}
