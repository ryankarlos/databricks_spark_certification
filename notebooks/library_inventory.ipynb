{
 "cells": [
  {
   "cell_type": "code",
   "execution_count": 111,
   "id": "2cb7f0d4-eb3c-47e8-99c7-da9ba36f7923",
   "metadata": {
    "execution": {
     "iopub.execute_input": "2022-04-27T04:43:04.744496Z",
     "iopub.status.busy": "2022-04-27T04:43:04.744236Z",
     "iopub.status.idle": "2022-04-27T04:43:05.069822Z",
     "shell.execute_reply": "2022-04-27T04:43:05.067101Z",
     "shell.execute_reply.started": "2022-04-27T04:43:04.744468Z"
    },
    "tags": []
   },
   "outputs": [
    {
     "data": {
      "application/vnd.jupyter.widget-view+json": {
       "model_id": "b2f83de8bab84dadad51435be449c220",
       "version_major": 2,
       "version_minor": 0
      },
      "text/plain": [
       "VBox()"
      ]
     },
     "metadata": {},
     "output_type": "display_data"
    },
    {
     "data": {
      "application/vnd.jupyter.widget-view+json": {
       "model_id": "",
       "version_major": 2,
       "version_minor": 0
      },
      "text/plain": [
       "FloatProgress(value=0.0, bar_style='info', description='Progress:', layout=Layout(height='25px', width='50%'),…"
      ]
     },
     "metadata": {},
     "output_type": "display_data"
    }
   ],
   "source": [
    "import pyspark\n",
    "from pyspark.sql.functions import least, udf, pandas_udf, PandasUDFType, col,\\\n",
    "split, trim, regexp_replace, when, translate, substring, lower\n",
    "from pyspark.sql.types import StringType, FloatType, IntegerType"
   ]
  },
  {
   "cell_type": "code",
   "execution_count": 98,
   "id": "68ee222f-adf4-4711-ae93-22fce609593d",
   "metadata": {
    "execution": {
     "iopub.execute_input": "2022-04-27T04:16:10.799049Z",
     "iopub.status.busy": "2022-04-27T04:16:10.798795Z",
     "iopub.status.idle": "2022-04-27T04:16:28.603999Z",
     "shell.execute_reply": "2022-04-27T04:16:28.603173Z",
     "shell.execute_reply.started": "2022-04-27T04:16:10.799019Z"
    },
    "tags": []
   },
   "outputs": [
    {
     "data": {
      "application/vnd.jupyter.widget-view+json": {
       "model_id": "1e54d402056f4b3da5bd61ab63a70cfb",
       "version_major": 2,
       "version_minor": 0
      },
      "text/plain": [
       "VBox()"
      ]
     },
     "metadata": {},
     "output_type": "display_data"
    },
    {
     "data": {
      "application/vnd.jupyter.widget-view+json": {
       "model_id": "",
       "version_major": 2,
       "version_minor": 0
      },
      "text/plain": [
       "FloatProgress(value=0.0, bar_style='info', description='Progress:', layout=Layout(height='25px', width='50%'),…"
      ]
     },
     "metadata": {},
     "output_type": "display_data"
    },
    {
     "name": "stdout",
     "output_type": "stream",
     "text": [
      "[Row(BibNum='3045405', Title='Ignite : a Defy novel / Sara B. Larson.', Author='Larson, Sara B.', ISBN='0545644747, 9780545644747', PublicationYear='2015.', Publisher='Scholastic Press,', Subjects='Magic Fiction, Kings and rulers Fiction, Conspiracies Fiction, Adventure stories, Young adult fiction', ItemType='acbk', ItemCollection='nyfic', FloatingItem='NA', ItemLocation='nga', ReportDate='2019-11-01T00:00:00.000', ItemCount='1'), Row(BibNum='3386344', Title='Left : a love story / Mary Hogan.', Author='Hogan, Mary, 1957-', ISBN='006267837X, 9780062678379', PublicationYear='[2018]', Publisher='William Morrow, an imprint of HarperCollins Publishers,', Subjects='Married people Fiction, Dementia Fiction, Medical fiction', ItemType='acbk', ItemCollection='canew', FloatingItem='NA', ItemLocation='cen', ReportDate='2019-11-01T00:00:00.000', ItemCount='1'), Row(BibNum='3438763', Title=\"Beyond curry : Indian cookbook : a culinary journey through India / Denise D'silva Sankhé.\", Author=\"Sankhé, Denise D'silva,\", ISBN='1623156963, 9781623156961', PublicationYear='[2016]', Publisher='Rockridge Press,', Subjects='Cooking Indic, Cookbooks', ItemType='acbk', ItemCollection='nanf', FloatingItem='NA', ItemLocation='bro', ReportDate='2019-11-01T00:00:00.000', ItemCount='1'), Row(BibNum='2154322', Title='The problem of the soul : two visions of mind and how to reconcile them / Owen Flanagan.', Author='Flanagan, Owen J.', ISBN='0465024602', PublicationYear='2002.', Publisher='Basic Books,', Subjects='Philosophical anthropology, Philosophy of mind, Naturalism', ItemType='acbk', ItemCollection='canf', FloatingItem='NA', ItemLocation='cen', ReportDate='2019-11-01T00:00:00.000', ItemCount='1')]"
     ]
    }
   ],
   "source": [
    "## this dataset is around 11Gb and has 35 million rows approx\n",
    "\n",
    "data = spark.read.option(\"header\", \"true\").csv(\"s3://big-datasets-over-gb/seattle_library/library-collection-inventory.csv\")\n",
    "data.tail(4)\n"
   ]
  },
  {
   "cell_type": "code",
   "execution_count": 104,
   "id": "9e7bdf66-c79e-41bd-96e0-885da88c9f6b",
   "metadata": {
    "execution": {
     "iopub.execute_input": "2022-04-27T04:26:45.405651Z",
     "iopub.status.busy": "2022-04-27T04:26:45.405279Z",
     "iopub.status.idle": "2022-04-27T04:26:45.663843Z",
     "shell.execute_reply": "2022-04-27T04:26:45.662657Z",
     "shell.execute_reply.started": "2022-04-27T04:26:45.405619Z"
    },
    "tags": []
   },
   "outputs": [
    {
     "data": {
      "application/vnd.jupyter.widget-view+json": {
       "model_id": "96e59db395ad497b98828b4232ede52d",
       "version_major": 2,
       "version_minor": 0
      },
      "text/plain": [
       "VBox()"
      ]
     },
     "metadata": {},
     "output_type": "display_data"
    },
    {
     "data": {
      "application/vnd.jupyter.widget-view+json": {
       "model_id": "",
       "version_major": 2,
       "version_minor": 0
      },
      "text/plain": [
       "FloatProgress(value=0.0, bar_style='info', description='Progress:', layout=Layout(height='25px', width='50%'),…"
      ]
     },
     "metadata": {},
     "output_type": "display_data"
    },
    {
     "name": "stdout",
     "output_type": "stream",
     "text": [
      "root\n",
      " |-- Title: string (nullable = true)\n",
      " |-- Author: string (nullable = true)\n",
      " |-- PublishedYr: string (nullable = true)\n",
      " |-- Publisher: string (nullable = true)\n",
      " |-- Subjects: string (nullable = true)\n",
      " |-- ItemType: string (nullable = true)\n",
      " |-- ItemCollection: string (nullable = true)\n",
      " |-- FloatingItem: string (nullable = true)\n",
      " |-- ItemLoc: string (nullable = true)"
     ]
    }
   ],
   "source": [
    "select_cols = ['Title', 'Author','PublicationYear', 'Publisher', 'Subjects', \n",
    "               'ItemType', 'ItemCollection', 'FloatingItem', 'ItemLocation']\n",
    "\n",
    "df = data.select(*select_cols)\\\n",
    ".withColumnRenamed('Publicationyear', 'Year')\\\n",
    ".withColumnRenamed('ItemLocation', 'ItemLoc')\\\n",
    ".drop_duplicates()\\\n",
    "\n",
    "df.printSchema()"
   ]
  },
  {
   "cell_type": "code",
   "execution_count": 105,
   "id": "9a29464d-0800-4ca7-ac28-5c4d64d0f3f7",
   "metadata": {
    "execution": {
     "iopub.execute_input": "2022-04-27T04:26:48.291354Z",
     "iopub.status.busy": "2022-04-27T04:26:48.291106Z",
     "iopub.status.idle": "2022-04-27T04:28:59.611330Z",
     "shell.execute_reply": "2022-04-27T04:28:59.608820Z",
     "shell.execute_reply.started": "2022-04-27T04:26:48.291326Z"
    },
    "tags": []
   },
   "outputs": [
    {
     "data": {
      "application/vnd.jupyter.widget-view+json": {
       "model_id": "5f90f5b0b0ea40a3890de48b31db6f8d",
       "version_major": 2,
       "version_minor": 0
      },
      "text/plain": [
       "VBox()"
      ]
     },
     "metadata": {},
     "output_type": "display_data"
    },
    {
     "data": {
      "application/vnd.jupyter.widget-view+json": {
       "model_id": "",
       "version_major": 2,
       "version_minor": 0
      },
      "text/plain": [
       "FloatProgress(value=0.0, bar_style='info', description='Progress:', layout=Layout(height='25px', width='50%'),…"
      ]
     },
     "metadata": {},
     "output_type": "display_data"
    },
    {
     "name": "stdout",
     "output_type": "stream",
     "text": [
      "[Row(Title='The darkest star / Jennifer L. Armentrout.', Author='Armentrout, Jennifer L.', PublishedYr='2018.', Publisher='Tor Teen,', Subjects='Extraterrestrial beings Juvenile fiction, Secrecy Juvenile fiction, Love Fiction, Science fiction', ItemType='acbk', ItemCollection='nyfic', FloatingItem='NA', ItemLoc='mag'), Row(Title='The scourge / Jennifer A. Nielsen.', Author='Nielsen, Jennifer A.', PublishedYr='2016.', Publisher='Scholastic Press,', Subjects='Epidemics Juvenile fiction, Communicable diseases Juvenile fiction, Conspiracies Juvenile fiction, Government Resistance to Juvenile fiction, Best friends Juvenile fiction, Adventure stories, Epidemics Fiction, Diseases Fiction, Conspiracies Fiction, Government Resistance to Fiction, Best friends Fiction, Friendship Fiction, Adventure and adventurers Fiction, Adventure fiction', ItemType='acbk', ItemCollection='nyfic', FloatingItem='NA', ItemLoc='col'), Row(Title='Remember Little Bighorn : Indians, soldiers, and scouts tell their stories / Paul Robert Walker, with a foreword by John A. Doerner, Little Bighorn Battlefield National Monument.', Author='Walker, Paul Robert', PublishedYr='2015.', Publisher='National Geographic,', Subjects='Little Bighorn Battle of the Mont 1876 Personal narratives Juvenile literature, Black Hills War 1876 1877 Personal narratives Juvenile literature, Little Bighorn Battle of the Mont 1876 Personal narratives, Black Hills War 1876 1877 Personal narratives', ItemType='jcbk', ItemCollection='ncnf', FloatingItem='NA', ItemLoc='bal'), Row(Title='The dinosaur that pooped the past / Tom Fletcher & Dougie Poynter ; illustrated by Garry Parsons.', Author='Fletcher, Tom, 1985-', PublishedYr='2018.', Publisher='Aladdin,', Subjects='Danny Fictitious character Fletcher Juvenile fiction, Dinosaur Fictitious character Fletcher Juvenile fiction, Time travel Juvenile fiction, Time travel Fiction, Picture books', ItemType='jcbk', ItemCollection='ncpic', FloatingItem='NA', ItemLoc='mag'), Row(Title='Pierre the maze detective : the search for the stolen maze stone / [illustrations by] Hiro Kamigaki & IC4Design ; written by Chihiro Maruyama ; translation by Emma Sakamiya & Elizabeth Jenner.', Author='Maruyama, Chihiro', PublishedYr='2015.', Publisher='Laurence King Publishing,', Subjects='Maze puzzles Juvenile literature', ItemType='jcbk', ItemCollection='naover', FloatingItem='NA', ItemLoc='mag')]"
     ]
    }
   ],
   "source": [
    "df.head(5)"
   ]
  },
  {
   "cell_type": "code",
   "execution_count": 120,
   "id": "aa5665aa-d20a-4d34-8990-12bb4998468e",
   "metadata": {
    "execution": {
     "iopub.execute_input": "2022-04-27T05:13:26.480827Z",
     "iopub.status.busy": "2022-04-27T05:13:26.480515Z",
     "iopub.status.idle": "2022-04-27T05:15:58.284529Z",
     "shell.execute_reply": "2022-04-27T05:15:58.283459Z",
     "shell.execute_reply.started": "2022-04-27T05:13:26.480791Z"
    },
    "tags": []
   },
   "outputs": [
    {
     "data": {
      "application/vnd.jupyter.widget-view+json": {
       "model_id": "1962ccddf2bb4b5fbe172405e0d06323",
       "version_major": 2,
       "version_minor": 0
      },
      "text/plain": [
       "VBox()"
      ]
     },
     "metadata": {},
     "output_type": "display_data"
    },
    {
     "data": {
      "application/vnd.jupyter.widget-view+json": {
       "model_id": "",
       "version_major": 2,
       "version_minor": 0
      },
      "text/plain": [
       "FloatProgress(value=0.0, bar_style='info', description='Progress:', layout=Layout(height='25px', width='50%'),…"
      ]
     },
     "metadata": {},
     "output_type": "display_data"
    },
    {
     "name": "stdout",
     "output_type": "stream",
     "text": [
      "+--------------------+--------------------+-----------+--------------------+--------------------+--------+--------------+------------+-------+----+\n",
      "|               Title|              Author|PublishedYr|           Publisher|            Subjects|ItemType|ItemCollection|FloatingItem|ItemLoc|Year|\n",
      "+--------------------+--------------------+-----------+--------------------+--------------------+--------+--------------+------------+-------+----+\n",
      "|Waiting for Eden ...|    Ackerman, Elliot|      2018.|    Alfred A. Knopf,|Veterans Fiction,...|    acbk|         nanew|          NA|    cap|2018|\n",
      "|Alexander Hamilto...|       Kelley, K. C.|      2017.|Children's Press,...|Hamilton Alexande...|    jcbk|         ncenf|          NA|    swt|2017|\n",
      "|Sloppy joe stink-...|       Scroggs, Kirk|      2015.|Little, Brown and...|School lunchrooms...|    jcbk|         ccfic|          NA|    cen|2015|\n",
      "|Pirates of the Ca...|                null|      2017.|Distributed by Bu...|Sparrow Jack Fict...|   acdvd|         nadvd|    Floating|    gwd|2017|\n",
      "|The obsession / N...|       Roberts, Nora|      2016.|      Berkley Books,|Man woman relatio...|    acbk|         nafic|          NA|    col|2016|\n",
      "|The shopkeeper's ...|   Rowland, Caroline|      2015.|       Jacqui Small,| Interior decoration|    acbk|          nanf|          NA|    wts|2015|\n",
      "|Betty Crocker Chr...|      Crocker, Betty|      2017.|Houghton Mifflin ...|Christmas cooking...|    acbk|          nanf|          NA|    bal|2017|\n",
      "|The law (in plain...|  DuBoff, Leonard D.|      2019.|     Allworth Press,|Nonprofit organiz...|    acbk|          canf|          NA|    cen|2019|\n",
      "|The Splendour Fal...|Kearsley, Susanna...|      2016.|    Thorndike Press,|Cousins Fiction, ...|    acbk|       calpfic|          NA|    cen|2016|\n",
      "|Quick Keto meals ...|  Slajerova, Martina|      2017.|         Fair Winds,|Reducing diets, L...|    acbk|          nanf|          NA|    uni|2017|\n",
      "|Nexus / Scott Wes...|   Westerfeld, Scott|      2018.|        Simon Pulse,|Ability Juvenile ...|    acbk|         nynew|          NA|    bal|2018|\n",
      "|Clawback / J.A. J...|    Jance, Judith A.|      2016.|         Touchstone,|Reynolds Ali Fict...|    acbk|         namys|    Floating|    cap|2016|\n",
      "|How to build dry-...|Shaw-Rimmington, ...|      2016.|      Firefly Books,|Dry stone walls D...|    acbk|          nanf|          NA|    dth|2016|\n",
      "|A whisper of hors...|     Bethell, Zillah|      2017.| Feiwel and Friends,|Voyages and trave...|    jcbk|         ncfic|          NA|    cap|2017|\n",
      "|Wild and precious...|Ziegler, Deborah,...|      2016.|Emily Bestler Boo...|Maynard Brittany,...|    acbk|          nanf|          NA|    mag|2016|\n",
      "|The hike / Drew M...|        Magary, Drew|      2017.|    Thorndike Press,|Hiking Pennsylvan...|    acbk|       calpfic|          NA|    cen|2017|\n",
      "|Hendrix : the ult...|Gaar, Gillian G.,...|      2017.|     Voyageur Press,|Hendrix Jimi, Roc...|    acbk|         canew|          NA|    cen|2017|\n",
      "|Adventures in Pyt...|Richardson, Craig...|      2015.|              Wiley,|Python Computer p...|    acbk|          nanf|          NA|    uni|2015|\n",
      "|Miranda and Calib...|Carey, Jacqueline...|      2017.|Tom Doherty Assoc...|Miranda Fictitiou...|    acbk|          nasf|          NA|    cap|2017|\n",
      "|The capitalist / ...|Steiner, Peter, 1...|      2016.|Thomas Dunne Book...|Morgon Louis Fict...|    acbk|         nafic|          NA|    bro|2016|\n",
      "+--------------------+--------------------+-----------+--------------------+--------------------+--------+--------------+------------+-------+----+\n",
      "only showing top 20 rows"
     ]
    }
   ],
   "source": [
    "## lets reparition the data again as we have filtered \n",
    "\n",
    "repartitioned_df = df.withColumn('Year', substring(trim(regexp_replace(\"PublishedYr\",r'[^0-9]',' ')),1,4).cast(IntegerType()))\\\n",
    ".filter(col('Year').between(2015, 2020))\\\n",
    ".coalesce(1)\\\n",
    ".repartition(6)\n",
    "\n",
    "# lets cache the data so \n",
    "\n",
    "repartitioned_df.persist()\n",
    "\n",
    "repartitioned_df.show()"
   ]
  },
  {
   "cell_type": "code",
   "execution_count": 122,
   "id": "4e76d6f0-3bfc-47d4-84c2-05a7b6be3b09",
   "metadata": {
    "execution": {
     "iopub.execute_input": "2022-04-27T05:17:36.955509Z",
     "iopub.status.busy": "2022-04-27T05:17:36.955248Z",
     "iopub.status.idle": "2022-04-27T05:22:20.741165Z",
     "shell.execute_reply": "2022-04-27T05:22:20.740371Z",
     "shell.execute_reply.started": "2022-04-27T05:17:36.955479Z"
    },
    "tags": []
   },
   "outputs": [
    {
     "data": {
      "application/vnd.jupyter.widget-view+json": {
       "model_id": "565abb228ec64183aedf86937072e623",
       "version_major": 2,
       "version_minor": 0
      },
      "text/plain": [
       "VBox()"
      ]
     },
     "metadata": {},
     "output_type": "display_data"
    },
    {
     "data": {
      "application/vnd.jupyter.widget-view+json": {
       "model_id": "",
       "version_major": 2,
       "version_minor": 0
      },
      "text/plain": [
       "FloatProgress(value=0.0, bar_style='info', description='Progress:', layout=Layout(height='25px', width='50%'),…"
      ]
     },
     "metadata": {},
     "output_type": "display_data"
    },
    {
     "name": "stdout",
     "output_type": "stream",
     "text": [
      "Number of rows: 525027 with 6 partitions"
     ]
    }
   ],
   "source": [
    "print(f\"Number of rows: {repartitioned_df.count()} with {repartitioned_df.rdd.getNumPartitions()} partitions\")"
   ]
  },
  {
   "cell_type": "code",
   "execution_count": 116,
   "id": "39d8c1d2-a10f-48bd-af55-cee8ac29f324",
   "metadata": {
    "execution": {
     "iopub.execute_input": "2022-04-27T04:48:34.360421Z",
     "iopub.status.busy": "2022-04-27T04:48:34.360178Z",
     "iopub.status.idle": "2022-04-27T04:51:04.220162Z",
     "shell.execute_reply": "2022-04-27T04:51:04.219415Z",
     "shell.execute_reply.started": "2022-04-27T04:48:34.360394Z"
    },
    "tags": []
   },
   "outputs": [
    {
     "data": {
      "application/vnd.jupyter.widget-view+json": {
       "model_id": "9003cb03155843d1a598d8d6ed07d526",
       "version_major": 2,
       "version_minor": 0
      },
      "text/plain": [
       "VBox()"
      ]
     },
     "metadata": {},
     "output_type": "display_data"
    },
    {
     "data": {
      "application/vnd.jupyter.widget-view+json": {
       "model_id": "",
       "version_major": 2,
       "version_minor": 0
      },
      "text/plain": [
       "FloatProgress(value=0.0, bar_style='info', description='Progress:', layout=Layout(height='25px', width='50%'),…"
      ]
     },
     "metadata": {},
     "output_type": "display_data"
    },
    {
     "name": "stdout",
     "output_type": "stream",
     "text": [
      "+--------------------+--------------------+--------------------+--------------------+\n",
      "|               Title|              Author|            Subjects|           Publisher|\n",
      "+--------------------+--------------------+--------------------+--------------------+\n",
      "|Sports are fantas...|Könnecke, Ole, 1961-|Sports stories, R...|        Gecko Press,|\n",
      "|Careers if you li...|Kallen, Stuart A....|Sports Vocational...|ReferencePoint Pr...|\n",
      "|Thanks a lot, Joh...|  Parkhurst, Johanna|Hockey players Ve...|  Harmony Ink Press,|\n",
      "|Home run, touchdo...|         Landry, Leo|Sports Juvenile p...|Henry Holt and Co...|\n",
      "|Heidi Heckelbeck ...|        Coven, Wanda|Sports Fiction, S...|       Little Simon,|\n",
      "|Walter Camp : foo...|  Des Jardins, Julie|Camp Walter 1859 ...|Oxford University...|\n",
      "|The way downtown ...|    Gertsberg, Inna,|Local transit Juv...|     Kids Can Press,|\n",
      "|Aaron is a good s...|Eastman, P. D. (P...|Ability Fiction, ...|       Random House,|\n",
      "|Ali : a life / Jo...|       Eig, Jonathan|Ali Muhammad 1942...|Houghton Mifflin ...|\n",
      "|The greatest : my...|Ali, Muhammad, 19...|Ali Muhammad 1942...|   Graymalkin Media,|\n",
      "|Little Shaq / Sha...|   O'Neal, Shaquille|ONeal Shaquille C...|         Bloomsbury,|\n",
      "|Surviving Adam Me...|      Klare, Shannon|Football stories,...|        Swoon Reads,|\n",
      "|Unbeaten : Rocky ...|Stanton, Mike, 1957-|Marciano Rocky 19...|Henry Holt and Co...|\n",
      "|It's how we play ...|Stack, Ed (Edward...|Stack Ed Edward W...|           Scribner,|\n",
      "|Turkeys strike ou...|       Eliot, Hannah|Sports Miscellane...|       Little Simon,|\n",
      "|The DH / John Fei...|     Feinstein, John|Baseball stories,...|    Alfred A. Knopf,|\n",
      "|Cars, trains, shi...|      Gifford, Clive|Vehicles Juvenile...|      DK Publishing,|\n",
      "|The devil's Merce...|       Klara, Robert|Hitler Adolf 1889...|Thomas Dunne Book...|\n",
      "|  Soar / Joan Bauer.|  Bauer, Joan, 1951-|Moving Household ...|Viking, published...|\n",
      "|McToad mows Tiny ...|    Angleberger, Tom|Transportation Ju...|Abrams Books for ...|\n",
      "+--------------------+--------------------+--------------------+--------------------+\n",
      "only showing top 20 rows"
     ]
    }
   ],
   "source": [
    "repartitioned_df.filter(lower(col('Subjects')).contains('sport'))\\\n",
    ".select('Title','Author','Subjects', 'Publisher')\\\n",
    ".show()"
   ]
  },
  {
   "cell_type": "code",
   "execution_count": 107,
   "id": "ceed6875-a869-427c-8d53-dcb1fcf3f97d",
   "metadata": {
    "execution": {
     "iopub.execute_input": "2022-04-27T04:33:05.564445Z",
     "iopub.status.busy": "2022-04-27T04:33:05.563048Z",
     "iopub.status.idle": "2022-04-27T04:35:13.117397Z",
     "shell.execute_reply": "2022-04-27T04:35:13.116549Z",
     "shell.execute_reply.started": "2022-04-27T04:33:05.564215Z"
    },
    "tags": []
   },
   "outputs": [
    {
     "data": {
      "application/vnd.jupyter.widget-view+json": {
       "model_id": "b12629629d5048b0b816fecaf0851542",
       "version_major": 2,
       "version_minor": 0
      },
      "text/plain": [
       "VBox()"
      ]
     },
     "metadata": {},
     "output_type": "display_data"
    },
    {
     "data": {
      "application/vnd.jupyter.widget-view+json": {
       "model_id": "",
       "version_major": 2,
       "version_minor": 0
      },
      "text/plain": [
       "FloatProgress(value=0.0, bar_style='info', description='Progress:', layout=Layout(height='25px', width='50%'),…"
      ]
     },
     "metadata": {},
     "output_type": "display_data"
    },
    {
     "name": "stdout",
     "output_type": "stream",
     "text": [
      "+----+------+\n",
      "|Year| count|\n",
      "+----+------+\n",
      "|2017|133647|\n",
      "|2016|114953|\n",
      "|2018|109195|\n",
      "|2015| 94617|\n",
      "|2019| 72449|\n",
      "|2020|   166|\n",
      "+----+------+"
     ]
    }
   ],
   "source": [
    "# which years were most books published \n",
    "\n",
    "\n",
    "df_year_count = repartitioned_df.groupBy(col('Year')).count().orderBy(col('count').desc_nulls_last())\n",
    "df_year_count.show()"
   ]
  },
  {
   "cell_type": "code",
   "execution_count": 108,
   "id": "8831f8fc-6932-49ad-9583-00cbc3dc6d7d",
   "metadata": {
    "execution": {
     "iopub.execute_input": "2022-04-27T04:35:50.877898Z",
     "iopub.status.busy": "2022-04-27T04:35:50.877650Z",
     "iopub.status.idle": "2022-04-27T04:38:00.574981Z",
     "shell.execute_reply": "2022-04-27T04:38:00.573761Z",
     "shell.execute_reply.started": "2022-04-27T04:35:50.877870Z"
    },
    "tags": []
   },
   "outputs": [
    {
     "data": {
      "application/vnd.jupyter.widget-view+json": {
       "model_id": "0b30914b06e14b978259ee211f549f89",
       "version_major": 2,
       "version_minor": 0
      },
      "text/plain": [
       "VBox()"
      ]
     },
     "metadata": {},
     "output_type": "display_data"
    },
    {
     "data": {
      "application/vnd.jupyter.widget-view+json": {
       "model_id": "",
       "version_major": 2,
       "version_minor": 0
      },
      "text/plain": [
       "FloatProgress(value=0.0, bar_style='info', description='Progress:', layout=Layout(height='25px', width='50%'),…"
      ]
     },
     "metadata": {},
     "output_type": "display_data"
    },
    {
     "name": "stdout",
     "output_type": "stream",
     "text": [
      "[Row(Publisher='Little, Brown and Company,', count=16015), Row(Publisher='DK Publishing,', count=10844), Row(Publisher='Candlewick Press,', count=10744), Row(Publisher='Alfred A. Knopf,', count=9169), Row(Publisher='Thorndike Press,', count=7869)]"
     ]
    }
   ],
   "source": [
    "# top n publishers \n",
    "\n",
    "repartitioned_df.groupBy(col('Publisher'))\\\n",
    ".count()\\\n",
    ".orderBy(col('count').desc_nulls_last())\\\n",
    ".head(5)"
   ]
  },
  {
   "cell_type": "code",
   "execution_count": 124,
   "id": "3d53ea99-aa57-4cfa-88b8-2aae4b1f06f2",
   "metadata": {
    "execution": {
     "iopub.execute_input": "2022-04-27T05:25:10.924877Z",
     "iopub.status.busy": "2022-04-27T05:25:10.924631Z",
     "iopub.status.idle": "2022-04-27T05:27:43.026230Z",
     "shell.execute_reply": "2022-04-27T05:27:43.024755Z",
     "shell.execute_reply.started": "2022-04-27T05:25:10.924849Z"
    },
    "tags": []
   },
   "outputs": [
    {
     "data": {
      "application/vnd.jupyter.widget-view+json": {
       "model_id": "81cd78a3ba9940a5963f5561403b005e",
       "version_major": 2,
       "version_minor": 0
      },
      "text/plain": [
       "VBox()"
      ]
     },
     "metadata": {},
     "output_type": "display_data"
    },
    {
     "data": {
      "application/vnd.jupyter.widget-view+json": {
       "model_id": "",
       "version_major": 2,
       "version_minor": 0
      },
      "text/plain": [
       "FloatProgress(value=0.0, bar_style='info', description='Progress:', layout=Layout(height='25px', width='50%'),…"
      ]
     },
     "metadata": {},
     "output_type": "display_data"
    }
   ],
   "source": [
    "## write repartitioned_df back to S3 and parition by year column\n",
    "\n",
    "## this will store in S3 in partitions e.g.\n",
    "# library_inventory.parquet/Year=2015/part-00000-67b154e2-21c2-4019-b8a7-f1c6e6bd9f70.c000.snappy.parquet\n",
    "# library_inventory.parquet/Year=2017/part-00000-67b154e2-21c2-4019-b8a7-f1c6e6bd9f70.c000.snappy.parquet\n",
    "\n",
    "df_write = repartitioned_df.coalesce(1)\n",
    "path = \"s3://big-datasets-over-gb/seattle_library/processed/\"\n",
    "df_write.write.partitionBy(\"Year\").format(\"parquet\").save(f\"{path}/library_inventory.parquet\")"
   ]
  },
  {
   "cell_type": "code",
   "execution_count": null,
   "id": "174054d9-8139-4158-b30e-daa1121a47b9",
   "metadata": {},
   "outputs": [],
   "source": []
  }
 ],
 "metadata": {
  "kernelspec": {
   "display_name": "PySpark",
   "language": "",
   "name": "pysparkkernel"
  },
  "language_info": {
   "codemirror_mode": {
    "name": "python",
    "version": 2
   },
   "mimetype": "text/x-python",
   "name": "pyspark",
   "pygments_lexer": "python2"
  }
 },
 "nbformat": 4,
 "nbformat_minor": 5
}
