{
 "cells": [
  {
   "cell_type": "code",
   "execution_count": 1,
   "id": "9c40cd20-9871-4e48-b467-9ab7ee802fb3",
   "metadata": {
    "execution": {
     "iopub.execute_input": "2022-05-01T22:16:15.429524Z",
     "iopub.status.busy": "2022-05-01T22:16:15.429244Z",
     "iopub.status.idle": "2022-05-01T22:16:58.046551Z",
     "shell.execute_reply": "2022-05-01T22:16:58.042871Z",
     "shell.execute_reply.started": "2022-05-01T22:16:15.429479Z"
    },
    "tags": []
   },
   "outputs": [
    {
     "data": {
      "application/vnd.jupyter.widget-view+json": {
       "model_id": "aa22203765ac424fafba568fcf3e46eb",
       "version_major": 2,
       "version_minor": 0
      },
      "text/plain": [
       "VBox()"
      ]
     },
     "metadata": {},
     "output_type": "display_data"
    },
    {
     "name": "stdout",
     "output_type": "stream",
     "text": [
      "Starting Spark application\n"
     ]
    },
    {
     "data": {
      "text/html": [
       "<table>\n",
       "<tr><th>ID</th><th>YARN Application ID</th><th>Kind</th><th>State</th><th>Spark UI</th><th>Driver log</th><th>Current session?</th></tr><tr><td>6</td><td>application_1651428963520_0008</td><td>pyspark</td><td>idle</td><td><a target=\"_blank\" href=\"http://ip-10-0-0-220.ec2.internal:20888/proxy/application_1651428963520_0008/\">Link</a></td><td><a target=\"_blank\" href=\"http://ip-10-0-0-89.ec2.internal:8042/node/containerlogs/container_1651428963520_0008_01_000001/livy\">Link</a></td><td>✔</td></tr></table>"
      ],
      "text/plain": [
       "<IPython.core.display.HTML object>"
      ]
     },
     "metadata": {},
     "output_type": "display_data"
    },
    {
     "data": {
      "application/vnd.jupyter.widget-view+json": {
       "model_id": "",
       "version_major": 2,
       "version_minor": 0
      },
      "text/plain": [
       "FloatProgress(value=0.0, bar_style='info', description='Progress:', layout=Layout(height='25px', width='50%'),…"
      ]
     },
     "metadata": {},
     "output_type": "display_data"
    },
    {
     "name": "stdout",
     "output_type": "stream",
     "text": [
      "SparkSession available as 'spark'.\n"
     ]
    },
    {
     "data": {
      "application/vnd.jupyter.widget-view+json": {
       "model_id": "",
       "version_major": 2,
       "version_minor": 0
      },
      "text/plain": [
       "FloatProgress(value=0.0, bar_style='info', description='Progress:', layout=Layout(height='25px', width='50%'),…"
      ]
     },
     "metadata": {},
     "output_type": "display_data"
    },
    {
     "name": "stdout",
     "output_type": "stream",
     "text": [
      "[Row(battery_level=4, c02_level=1358, cca2='DE', cca3='DEU', cn='Germany', device_id=198163, device_name='meter-gauge-198163jphYrUReMD', humidity=56, ip='93.135.125.41', latitude=48.19, lcd='yellow', longitude=11.38, scale='Celsius', temp=30, timestamp=1458444061098), Row(battery_level=0, c02_level=1291, cca2='PL', cca3='POL', cn='Poland', device_id=198164, device_name='sensor-pad-198164Ndlyvs0r9C', humidity=98, ip='80.55.20.25', latitude=53.08, lcd='yellow', longitude=18.62, scale='Celsius', temp=12, timestamp=1458444061098)]"
     ]
    }
   ],
   "source": [
    "import pyspark\n",
    "from pyspark.sql import functions as F\n",
    "from pyspark.sql.types import IntegerType, StringType, FloatType, TimestampType, StructType, StructField\n",
    "\n",
    "\n",
    "data = spark.read.json(\"s3://big-datasets-over-gb/iot-devices/iot_devices.json\")\n",
    "\n",
    "data.tail(2)"
   ]
  },
  {
   "cell_type": "code",
   "execution_count": 58,
   "id": "df3f9e77-e3d1-44bc-a8d5-81557e5f5d7c",
   "metadata": {
    "execution": {
     "iopub.execute_input": "2022-05-01T23:13:55.853149Z",
     "iopub.status.busy": "2022-05-01T23:13:55.852810Z",
     "iopub.status.idle": "2022-05-01T23:13:56.227928Z",
     "shell.execute_reply": "2022-05-01T23:13:56.199759Z",
     "shell.execute_reply.started": "2022-05-01T23:13:55.853036Z"
    }
   },
   "outputs": [
    {
     "data": {
      "application/vnd.jupyter.widget-view+json": {
       "model_id": "393d7c32604648698550919fdda2963f",
       "version_major": 2,
       "version_minor": 0
      },
      "text/plain": [
       "VBox()"
      ]
     },
     "metadata": {},
     "output_type": "display_data"
    },
    {
     "data": {
      "application/vnd.jupyter.widget-view+json": {
       "model_id": "",
       "version_major": 2,
       "version_minor": 0
      },
      "text/plain": [
       "FloatProgress(value=0.0, bar_style='info', description='Progress:', layout=Layout(height='25px', width='50%'),…"
      ]
     },
     "metadata": {},
     "output_type": "display_data"
    },
    {
     "name": "stdout",
     "output_type": "stream",
     "text": [
      "root\n",
      " |-- battery_level: long (nullable = true)\n",
      " |-- c02_level: long (nullable = true)\n",
      " |-- cca2: string (nullable = true)\n",
      " |-- cca3: string (nullable = true)\n",
      " |-- cn: string (nullable = true)\n",
      " |-- device_id: long (nullable = true)\n",
      " |-- device_name: string (nullable = true)\n",
      " |-- humidity: long (nullable = true)\n",
      " |-- ip: string (nullable = true)\n",
      " |-- latitude: double (nullable = true)\n",
      " |-- lcd: string (nullable = true)\n",
      " |-- longitude: double (nullable = true)\n",
      " |-- scale: string (nullable = true)\n",
      " |-- temp: long (nullable = true)\n",
      " |-- timestamp: long (nullable = true)"
     ]
    }
   ],
   "source": [
    "data.printSchema()"
   ]
  },
  {
   "cell_type": "code",
   "execution_count": 125,
   "id": "012ce8b8-b1a0-4580-88c5-b94af83c308a",
   "metadata": {
    "execution": {
     "iopub.execute_input": "2022-05-02T00:42:22.404988Z",
     "iopub.status.busy": "2022-05-02T00:42:22.404714Z",
     "iopub.status.idle": "2022-05-02T00:42:23.938272Z",
     "shell.execute_reply": "2022-05-02T00:42:23.937455Z",
     "shell.execute_reply.started": "2022-05-02T00:42:22.404959Z"
    }
   },
   "outputs": [
    {
     "data": {
      "application/vnd.jupyter.widget-view+json": {
       "model_id": "c903591251c44aecbdb2954d8ce33727",
       "version_major": 2,
       "version_minor": 0
      },
      "text/plain": [
       "VBox()"
      ]
     },
     "metadata": {},
     "output_type": "display_data"
    },
    {
     "data": {
      "application/vnd.jupyter.widget-view+json": {
       "model_id": "",
       "version_major": 2,
       "version_minor": 0
      },
      "text/plain": [
       "FloatProgress(value=0.0, bar_style='info', description='Progress:', layout=Layout(height='25px', width='50%'),…"
      ]
     },
     "metadata": {},
     "output_type": "display_data"
    },
    {
     "name": "stdout",
     "output_type": "stream",
     "text": [
      "+---+-------------+-------------+---------+-------------+--------------------+--------+----+\n",
      "| id|    timestamp|battery_level|c02_level|      country|         device_name|humidity|temp|\n",
      "+---+-------------+-------------+---------+-------------+--------------------+--------+----+\n",
      "|  1|1458444054093|            8|      868|United States|meter-gauge-1xbYRYcj|      51|  34|\n",
      "|  2|1458444054119|            7|     1473|       Norway|   sensor-pad-2n2Pea|      70|  11|\n",
      "|  3|1458444054120|            2|     1556|        Italy| device-mac-36TWSKiT|      44|  19|\n",
      "|  4|1458444054121|            6|     1080|United States|   sensor-pad-4mzWkz|      32|  28|\n",
      "|  5|1458444054122|            4|      931|  Philippines|therm-stick-5gimp...|      62|  25|\n",
      "|  6|1458444054122|            3|     1210|United States|sensor-pad-6al7RT...|      51|  27|\n",
      "|  7|1458444054123|            3|     1129|        China|meter-gauge-7GeDoanM|      26|  18|\n",
      "|  8|1458444054123|            0|     1536|        Japan|sensor-pad-8xUD6p...|      35|  27|\n",
      "|  9|1458444054124|            3|      807|        Japan| device-mac-9GcjZ2pw|      85|  13|\n",
      "| 10|1458444054125|            7|     1470|United States|sensor-pad-10Bsyw...|      56|  26|\n",
      "| 11|1458444054125|            3|     1544|        Italy|meter-gauge-11dlM...|      85|  16|\n",
      "| 12|1458444054126|            0|     1260|United States|sensor-pad-12Y2kIm0o|      92|  12|\n",
      "| 13|1458444054127|            6|     1007|        India|meter-gauge-13Gro...|      92|  13|\n",
      "| 14|1458444054127|            1|     1346|       Norway|sensor-pad-14QL93...|      90|  16|\n",
      "| 15|1458444054128|            9|     1259|United States|  device-mac-15se6mZ|      70|  13|\n",
      "| 16|1458444054128|            4|     1425|United States|sensor-pad-16aXmI...|      53|  15|\n",
      "| 17|1458444054129|            0|     1466|United States|meter-gauge-17zb8...|      98|  31|\n",
      "| 18|1458444054130|            4|     1096|        China|sensor-pad-18XULN9Xv|      25|  31|\n",
      "| 19|1458444054130|            9|     1531|United States|meter-gauge-19eg1...|      75|  29|\n",
      "| 20|1458444054131|            7|     1155|United States|sensor-pad-20gFNf...|      33|  10|\n",
      "+---+-------------+-------------+---------+-------------+--------------------+--------+----+\n",
      "only showing top 20 rows"
     ]
    }
   ],
   "source": [
    "df = data.\\\n",
    "select([F.col('device_id').alias('id'),\\\n",
    "             'timestamp','battery_level',\\\n",
    "             'c02_level',F.col('cn').alias('country'),\\\n",
    "             'device_name', 'humidity','temp'])\n",
    "\n",
    "#lets cache the dataset\n",
    "df.cache()\n",
    "df.show()"
   ]
  },
  {
   "cell_type": "markdown",
   "id": "9dc5425e-1cd1-477d-91d1-9a134d564b78",
   "metadata": {
    "execution": {
     "iopub.execute_input": "2022-05-02T00:31:17.685000Z",
     "iopub.status.busy": "2022-05-02T00:31:17.684727Z",
     "iopub.status.idle": "2022-05-02T00:31:17.944427Z",
     "shell.execute_reply": "2022-05-02T00:31:17.943260Z",
     "shell.execute_reply.started": "2022-05-02T00:31:17.684969Z"
    }
   },
   "source": [
    "##### show distinct device names. use regex to remove anything after hyphen which starts with a number"
   ]
  },
  {
   "cell_type": "code",
   "execution_count": 115,
   "id": "f7957d41-b367-4baa-9f52-54c330ef8ae1",
   "metadata": {
    "execution": {
     "iopub.execute_input": "2022-05-02T00:33:57.156274Z",
     "iopub.status.busy": "2022-05-02T00:33:57.156023Z",
     "iopub.status.idle": "2022-05-02T00:34:09.049788Z",
     "shell.execute_reply": "2022-05-02T00:34:09.048828Z",
     "shell.execute_reply.started": "2022-05-02T00:33:57.156246Z"
    },
    "tags": []
   },
   "outputs": [
    {
     "data": {
      "application/vnd.jupyter.widget-view+json": {
       "model_id": "46c1bbcecca943dfaa7f90694e0fdafc",
       "version_major": 2,
       "version_minor": 0
      },
      "text/plain": [
       "VBox()"
      ]
     },
     "metadata": {},
     "output_type": "display_data"
    },
    {
     "data": {
      "application/vnd.jupyter.widget-view+json": {
       "model_id": "",
       "version_major": 2,
       "version_minor": 0
      },
      "text/plain": [
       "FloatProgress(value=0.0, bar_style='info', description='Progress:', layout=Layout(height='25px', width='50%'),…"
      ]
     },
     "metadata": {},
     "output_type": "display_data"
    },
    {
     "name": "stdout",
     "output_type": "stream",
     "text": [
      "+-----------+\n",
      "|device_name|\n",
      "+-----------+\n",
      "|meter-gauge|\n",
      "| device-mac|\n",
      "|therm-stick|\n",
      "| sensor-pad|\n",
      "+-----------+"
     ]
    }
   ],
   "source": [
    "regex = '-[0-9e]\\w+'\n",
    "\n",
    "df = df.withColumn('device_name', F.regexp_replace(F.col('device_name'), regex, \"\"))\n",
    "df.select('device_name').distinct().show()"
   ]
  },
  {
   "cell_type": "markdown",
   "id": "45887dc8-2bbb-4180-8675-ff54f4f8514b",
   "metadata": {},
   "source": [
    "##### first 10 devices with temperatures excedding 30 and humidity greater than 70 in UK,USA or UAE, sorted by C02 and battery level "
   ]
  },
  {
   "cell_type": "code",
   "execution_count": 65,
   "id": "c66f29f8-268c-456c-a647-1667037898a0",
   "metadata": {
    "execution": {
     "iopub.execute_input": "2022-05-01T23:28:47.404097Z",
     "iopub.status.busy": "2022-05-01T23:28:47.403826Z",
     "iopub.status.idle": "2022-05-01T23:28:59.327562Z",
     "shell.execute_reply": "2022-05-01T23:28:59.250910Z",
     "shell.execute_reply.started": "2022-05-01T23:28:47.404069Z"
    },
    "tags": []
   },
   "outputs": [
    {
     "data": {
      "application/vnd.jupyter.widget-view+json": {
       "model_id": "3eff703a86e748b99deeff514626a52b",
       "version_major": 2,
       "version_minor": 0
      },
      "text/plain": [
       "VBox()"
      ]
     },
     "metadata": {},
     "output_type": "display_data"
    },
    {
     "data": {
      "application/vnd.jupyter.widget-view+json": {
       "model_id": "",
       "version_major": 2,
       "version_minor": 0
      },
      "text/plain": [
       "FloatProgress(value=0.0, bar_style='info', description='Progress:', layout=Layout(height='25px', width='50%'),…"
      ]
     },
     "metadata": {},
     "output_type": "display_data"
    },
    {
     "name": "stdout",
     "output_type": "stream",
     "text": [
      "+--------------------+\n",
      "|             country|\n",
      "+--------------------+\n",
      "|       United States|\n",
      "|United Arab Emirates|\n",
      "|      United Kingdom|\n",
      "+--------------------+"
     ]
    }
   ],
   "source": [
    "\n",
    "\n",
    "df.where(F.col('country').contains('United')).select('country').distinct().show()"
   ]
  },
  {
   "cell_type": "code",
   "execution_count": 116,
   "id": "d1ebcc47-ddf6-456c-a001-8619099b2078",
   "metadata": {
    "execution": {
     "iopub.execute_input": "2022-05-02T00:35:25.716496Z",
     "iopub.status.busy": "2022-05-02T00:35:25.716053Z",
     "iopub.status.idle": "2022-05-02T00:35:37.550656Z",
     "shell.execute_reply": "2022-05-02T00:35:37.549932Z",
     "shell.execute_reply.started": "2022-05-02T00:35:25.716455Z"
    },
    "tags": []
   },
   "outputs": [
    {
     "data": {
      "application/vnd.jupyter.widget-view+json": {
       "model_id": "f8f48dae7a424f088d2c202951f87a85",
       "version_major": 2,
       "version_minor": 0
      },
      "text/plain": [
       "VBox()"
      ]
     },
     "metadata": {},
     "output_type": "display_data"
    },
    {
     "data": {
      "application/vnd.jupyter.widget-view+json": {
       "model_id": "",
       "version_major": 2,
       "version_minor": 0
      },
      "text/plain": [
       "FloatProgress(value=0.0, bar_style='info', description='Progress:', layout=Layout(height='25px', width='50%'),…"
      ]
     },
     "metadata": {},
     "output_type": "display_data"
    },
    {
     "name": "stdout",
     "output_type": "stream",
     "text": [
      "+------+-------------+-------------+---------+--------------+-----------+--------+--------------+----+\n",
      "|    id|    timestamp|battery_level|c02_level|       country|device_name|humidity|            ip|temp|\n",
      "+------+-------------+-------------+---------+--------------+-----------+--------+--------------+----+\n",
      "|  4872|1458444055015|            7|     1599| United States| sensor-pad|      96|64.125.193.177|  34|\n",
      "| 28711|1458444056305|            6|     1599|United Kingdom|meter-gauge|      95| 212.113.11.17|  31|\n",
      "| 88359|1458444057734|            8|     1598| United States| device-mac|      93|  66.250.15.54|  33|\n",
      "|141720|1458444059708|            6|     1598|United Kingdom| sensor-pad|      98|   80.192.74.1|  32|\n",
      "| 35172|1458444056451|            5|     1598| United States| sensor-pad|      85|216.49.204.165|  31|\n",
      "| 14782|1458444055958|            4|     1598| United States| sensor-pad|      94|  129.105.47.1|  34|\n",
      "| 32336|1458444056392|            3|     1598| United States| sensor-pad|      93| 66.227.23.137|  32|\n",
      "| 25577|1458444056211|            9|     1597| United States|meter-gauge|      94|  147.126.90.1|  34|\n",
      "|149249|1458444059845|            8|     1597| United States|meter-gauge|      85| 12.110.80.170|  32|\n",
      "| 99834|1458444058341|            7|     1597| United States| sensor-pad|      99|   12.42.70.15|  34|\n",
      "+------+-------------+-------------+---------+--------------+-----------+--------+--------------+----+"
     ]
    }
   ],
   "source": [
    "df.where(F.col('country').\\\n",
    "         contains('United')).\\\n",
    "filter(\"\"\"temp > 30 and humidity > 70\"\"\").\\\n",
    "sort(F.col(\"C02_level\").desc(), F.col(\"battery_level\").desc()).\\\n",
    "limit(10).\\\n",
    "show()"
   ]
  },
  {
   "cell_type": "markdown",
   "id": "5cd8dc4d-2b92-4656-a28b-a4a60c74b80b",
   "metadata": {},
   "source": [
    "##### Compute the average humidity and temperature of all the devices in each country whose temperature and humidity are greater than 25 and 75 resepctively"
   ]
  },
  {
   "cell_type": "code",
   "execution_count": 83,
   "id": "ea3c676b-6667-45c1-87e6-206cc2a2690a",
   "metadata": {
    "execution": {
     "iopub.execute_input": "2022-05-01T23:43:04.352983Z",
     "iopub.status.busy": "2022-05-01T23:43:04.352513Z",
     "iopub.status.idle": "2022-05-01T23:43:05.532017Z",
     "shell.execute_reply": "2022-05-01T23:43:05.531112Z",
     "shell.execute_reply.started": "2022-05-01T23:43:04.352948Z"
    },
    "tags": []
   },
   "outputs": [
    {
     "data": {
      "application/vnd.jupyter.widget-view+json": {
       "model_id": "caf40d5e84d24005a23c90e42dc41480",
       "version_major": 2,
       "version_minor": 0
      },
      "text/plain": [
       "VBox()"
      ]
     },
     "metadata": {},
     "output_type": "display_data"
    },
    {
     "data": {
      "application/vnd.jupyter.widget-view+json": {
       "model_id": "",
       "version_major": 2,
       "version_minor": 0
      },
      "text/plain": [
       "FloatProgress(value=0.0, bar_style='info', description='Progress:', layout=Layout(height='25px', width='50%'),…"
      ]
     },
     "metadata": {},
     "output_type": "display_data"
    },
    {
     "name": "stdout",
     "output_type": "stream",
     "text": [
      "+---------------------------+------------------+-----------------+\n",
      "|country                    |avg(temp)         |avg(humidity)    |\n",
      "+---------------------------+------------------+-----------------+\n",
      "|Monaco                     |34.0              |91.0             |\n",
      "|Anguilla                   |34.0              |83.0             |\n",
      "|British Virgin Islands     |34.0              |81.0             |\n",
      "|Turkmenistan               |34.0              |80.0             |\n",
      "|Suriname                   |34.0              |79.0             |\n",
      "|Gibraltar                  |34.0              |78.0             |\n",
      "|Liechtenstein              |34.0              |76.0             |\n",
      "|Vanuatu                    |33.5              |84.0             |\n",
      "|Cameroon                   |33.0              |91.0             |\n",
      "|Fiji                       |33.0              |78.0             |\n",
      "|Haiti                      |32.5              |89.0             |\n",
      "|Brunei                     |32.5              |89.0             |\n",
      "|Albania                    |32.5              |80.0             |\n",
      "|Malawi                     |32.333333333333336|87.66666666666667|\n",
      "|Hashemite Kingdom of Jordan|32.166666666666664|84.0             |\n",
      "|Bosnia and Herzegovina     |32.0              |88.0             |\n",
      "|Peru                       |31.866666666666667|88.66666666666667|\n",
      "|Paraguay                   |31.75             |92.75            |\n",
      "|Malta                      |31.75             |87.75            |\n",
      "|Namibia                    |31.75             |86.25            |\n",
      "+---------------------------+------------------+-----------------+\n",
      "only showing top 20 rows"
     ]
    }
   ],
   "source": [
    "sorted_df = df.filter(\"temp > 25 and humidity > 75\")\\\n",
    ".select(\"temp\", \"humidity\", \"country\")\\\n",
    ".groupBy(\"country\")\\\n",
    ".avg()\\\n",
    ".sort(F.col(\"avg(temp)\").desc(), F.col(\"avg(humidity)\").desc())\\\n",
    "\n",
    "sorted_df.show(truncate=False)"
   ]
  },
  {
   "cell_type": "markdown",
   "id": "99ad4f6e-0d9d-40f8-9113-71aa2ba37a98",
   "metadata": {
    "execution": {
     "iopub.execute_input": "2022-05-01T23:53:29.880105Z",
     "iopub.status.busy": "2022-05-01T23:53:29.879783Z",
     "iopub.status.idle": "2022-05-01T23:53:30.166057Z",
     "shell.execute_reply": "2022-05-01T23:53:30.165113Z",
     "shell.execute_reply.started": "2022-05-01T23:53:29.880073Z"
    }
   },
   "source": [
    "##### Number of the devices per country"
   ]
  },
  {
   "cell_type": "code",
   "execution_count": 92,
   "id": "57f2150c-a27e-4bd7-b1e9-5f05ba910513",
   "metadata": {
    "execution": {
     "iopub.execute_input": "2022-05-01T23:52:55.937624Z",
     "iopub.status.busy": "2022-05-01T23:52:55.937372Z",
     "iopub.status.idle": "2022-05-01T23:52:57.540500Z",
     "shell.execute_reply": "2022-05-01T23:52:57.538859Z",
     "shell.execute_reply.started": "2022-05-01T23:52:55.937596Z"
    },
    "tags": []
   },
   "outputs": [
    {
     "data": {
      "application/vnd.jupyter.widget-view+json": {
       "model_id": "e5afb21a940040cab5b96ba30c25fe9b",
       "version_major": 2,
       "version_minor": 0
      },
      "text/plain": [
       "VBox()"
      ]
     },
     "metadata": {},
     "output_type": "display_data"
    },
    {
     "data": {
      "application/vnd.jupyter.widget-view+json": {
       "model_id": "",
       "version_major": 2,
       "version_minor": 0
      },
      "text/plain": [
       "FloatProgress(value=0.0, bar_style='info', description='Progress:', layout=Layout(height='25px', width='50%'),…"
      ]
     },
     "metadata": {},
     "output_type": "display_data"
    },
    {
     "name": "stdout",
     "output_type": "stream",
     "text": [
      "+-----------------+-----+\n",
      "|          country|count|\n",
      "+-----------------+-----+\n",
      "|    United States|68545|\n",
      "|            China|14455|\n",
      "|            Japan|12100|\n",
      "|Republic of Korea|11879|\n",
      "|          Germany| 7942|\n",
      "|   United Kingdom| 6486|\n",
      "|           Canada| 6041|\n",
      "|           Russia| 5989|\n",
      "|           France| 5305|\n",
      "|           Brazil| 3224|\n",
      "|        Australia| 3119|\n",
      "|            Italy| 2915|\n",
      "|           Sweden| 2880|\n",
      "|           Poland| 2744|\n",
      "|      Netherlands| 2488|\n",
      "|            Spain| 2310|\n",
      "|           Taiwan| 2128|\n",
      "|            India| 1867|\n",
      "|                 | 1810|\n",
      "|   Czech Republic| 1507|\n",
      "+-----------------+-----+\n",
      "only showing top 20 rows"
     ]
    }
   ],
   "source": [
    "df.select(\"country\", \"id\").groupBy(\"country\").count().distinct().orderBy(F.col(\"count\").desc()).limit(100).show()\n",
    "            "
   ]
  },
  {
   "cell_type": "markdown",
   "id": "0cc1b79e-111b-4924-a25f-5d50a2c04380",
   "metadata": {},
   "source": [
    "##### Find out all devices in countries whose batteries need replacements"
   ]
  },
  {
   "cell_type": "code",
   "execution_count": 100,
   "id": "1736b274-b047-4a81-8a5c-9ea62eaaf8f5",
   "metadata": {
    "execution": {
     "iopub.execute_input": "2022-05-02T00:00:28.685276Z",
     "iopub.status.busy": "2022-05-02T00:00:28.685020Z",
     "iopub.status.idle": "2022-05-02T00:00:31.362385Z",
     "shell.execute_reply": "2022-05-02T00:00:31.359385Z",
     "shell.execute_reply.started": "2022-05-02T00:00:28.685249Z"
    },
    "tags": []
   },
   "outputs": [
    {
     "data": {
      "application/vnd.jupyter.widget-view+json": {
       "model_id": "0fe1d89ede104bfcb9e5582191999668",
       "version_major": 2,
       "version_minor": 0
      },
      "text/plain": [
       "VBox()"
      ]
     },
     "metadata": {},
     "output_type": "display_data"
    },
    {
     "data": {
      "application/vnd.jupyter.widget-view+json": {
       "model_id": "",
       "version_major": 2,
       "version_minor": 0
      },
      "text/plain": [
       "FloatProgress(value=0.0, bar_style='info', description='Progress:', layout=Layout(height='25px', width='50%'),…"
      ]
     },
     "metadata": {},
     "output_type": "display_data"
    },
    {
     "name": "stdout",
     "output_type": "stream",
     "text": [
      "+-----------------+---------+\n",
      "|          country|device_id|\n",
      "+-----------------+---------+\n",
      "|    United States|     6858|\n",
      "|            China|     1415|\n",
      "|Republic of Korea|     1217|\n",
      "|            Japan|     1210|\n",
      "|          Germany|      760|\n",
      "|   United Kingdom|      650|\n",
      "|           Canada|      612|\n",
      "|           Russia|      600|\n",
      "|           France|      582|\n",
      "|           Brazil|      374|\n",
      "|        Australia|      322|\n",
      "|           Sweden|      293|\n",
      "|            Italy|      287|\n",
      "|           Poland|      278|\n",
      "|      Netherlands|      251|\n",
      "|            Spain|      223|\n",
      "|           Taiwan|      207|\n",
      "|            India|      189|\n",
      "|                 |      177|\n",
      "|        Hong Kong|      149|\n",
      "+-----------------+---------+\n",
      "only showing top 20 rows"
     ]
    }
   ],
   "source": [
    "df.createOrReplaceTempView('df')\n",
    "\n",
    "sql1 = \"select country, count(distinct id) as device_id from df where battery_level == 0 group by country order by device_id desc limit 100\"\n",
    "\n",
    "spark.sql(sql1).show()\n"
   ]
  },
  {
   "cell_type": "markdown",
   "id": "c3ebb8ca-316b-47c9-9cc2-35acd8da6cad",
   "metadata": {},
   "source": [
    "##### Select all countries' devices with high-levels of C02 "
   ]
  },
  {
   "cell_type": "code",
   "execution_count": 104,
   "id": "4b7367d8-08d5-4cf6-a443-34e0eddf7ce1",
   "metadata": {
    "execution": {
     "iopub.execute_input": "2022-05-02T00:10:07.405204Z",
     "iopub.status.busy": "2022-05-02T00:10:07.404958Z",
     "iopub.status.idle": "2022-05-02T00:10:19.277154Z",
     "shell.execute_reply": "2022-05-02T00:10:19.276365Z",
     "shell.execute_reply.started": "2022-05-02T00:10:07.405176Z"
    },
    "tags": []
   },
   "outputs": [
    {
     "data": {
      "application/vnd.jupyter.widget-view+json": {
       "model_id": "7fc416039976497c8291416f64f1cab3",
       "version_major": 2,
       "version_minor": 0
      },
      "text/plain": [
       "VBox()"
      ]
     },
     "metadata": {},
     "output_type": "display_data"
    },
    {
     "data": {
      "application/vnd.jupyter.widget-view+json": {
       "model_id": "",
       "version_major": 2,
       "version_minor": 0
      },
      "text/plain": [
       "FloatProgress(value=0.0, bar_style='info', description='Progress:', layout=Layout(height='25px', width='50%'),…"
      ]
     },
     "metadata": {},
     "output_type": "display_data"
    },
    {
     "name": "stdout",
     "output_type": "stream",
     "text": [
      "+-----------------+------------------------+---------+\n",
      "|          country|round(avg(c02_level), 2)|device_id|\n",
      "+-----------------+------------------------+---------+\n",
      "|    United States|                 1500.52|    17050|\n",
      "|            China|                 1500.09|     3616|\n",
      "|Republic of Korea|                 1500.72|     2942|\n",
      "|            Japan|                 1498.84|     2935|\n",
      "|          Germany|                 1500.91|     1966|\n",
      "|   United Kingdom|                 1499.14|     1660|\n",
      "|           Canada|                 1498.25|     1564|\n",
      "|           Russia|                 1500.62|     1508|\n",
      "|           France|                  1500.8|     1353|\n",
      "|           Brazil|                 1501.04|      856|\n",
      "|        Australia|                 1500.52|      769|\n",
      "|           Sweden|                  1500.2|      724|\n",
      "|            Italy|                 1501.41|      713|\n",
      "|           Poland|                 1499.58|      664|\n",
      "|      Netherlands|                 1502.01|      646|\n",
      "|            Spain|                 1498.54|      586|\n",
      "|           Taiwan|                 1500.47|      542|\n",
      "|            India|                  1493.5|      446|\n",
      "|                 |                 1501.74|      427|\n",
      "|           Norway|                 1499.37|      399|\n",
      "+-----------------+------------------------+---------+\n",
      "only showing top 20 rows"
     ]
    }
   ],
   "source": [
    "sql2 = \"select country, round(avg(c02_level),2), count(distinct id) as device_id from df where c02_level > 1400 group by country order by device_id desc limit 100\"\n",
    "\n",
    "spark.sql(sql2).show()"
   ]
  },
  {
   "cell_type": "code",
   "execution_count": null,
   "id": "18f5351f-b3a9-4dba-be46-fb4471bb1f05",
   "metadata": {},
   "outputs": [],
   "source": [
    "spark.catalog.dropTempView(\"df\")"
   ]
  }
 ],
 "metadata": {
  "kernelspec": {
   "display_name": "PySpark",
   "language": "",
   "name": "pysparkkernel"
  },
  "language_info": {
   "codemirror_mode": {
    "name": "python",
    "version": 2
   },
   "mimetype": "text/x-python",
   "name": "pyspark",
   "pygments_lexer": "python2"
  }
 },
 "nbformat": 4,
 "nbformat_minor": 5
}
